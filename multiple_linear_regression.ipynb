{
  "nbformat": 4,
  "nbformat_minor": 0,
  "metadata": {
    "kernelspec": {
      "display_name": "Python 3",
      "language": "python",
      "name": "python3"
    },
    "language_info": {
      "codemirror_mode": {
        "name": "ipython",
        "version": 3
      },
      "file_extension": ".py",
      "mimetype": "text/x-python",
      "name": "python",
      "nbconvert_exporter": "python",
      "pygments_lexer": "ipython3",
      "version": "3.8.2"
    },
    "colab": {
      "name": "multiple-linear-regression.ipynb",
      "provenance": []
    }
  },
  "cells": [
    {
      "cell_type": "markdown",
      "metadata": {
        "id": "TzU2CGDTlJDo",
        "colab_type": "text"
      },
      "source": [
        "# Multiple Linear Regression \n",
        "In multiple linear regression, there is one dependent variable as before (Y) and the independent variables are >=2. In this demo, we will try to predict house price through regression on this dataset: https://www.kaggle.com/harlfoxem/housesalesprediction. \n",
        "Let's start! <br> \n",
        "This is an OLS approach. Refer to https://scikit-learn.org/stable/modules/generated/sklearn.linear_model.SGDRegressor.html#sklearn.linear_model.SGDRegressor for a gradient descent based approach for your learning.\n",
        "\n",
        "### 1. Importing required libraries"
      ]
    },
    {
      "cell_type": "code",
      "metadata": {
        "id": "lh-rp-f3lJD3",
        "colab_type": "code",
        "colab": {}
      },
      "source": [
        "import numpy as np\n",
        "import pandas as pd\n",
        "from sklearn.model_selection import train_test_split\n",
        "import matplotlib.pyplot as plt\n",
        "from sklearn import metrics\n",
        "import math\n",
        "from sklearn import linear_model"
      ],
      "execution_count": 0,
      "outputs": []
    },
    {
      "cell_type": "markdown",
      "metadata": {
        "id": "mVHR-VQElJEP",
        "colab_type": "text"
      },
      "source": [
        "### 2. Loading the dataset"
      ]
    },
    {
      "cell_type": "code",
      "metadata": {
        "id": "5nPlyZmIlJET",
        "colab_type": "code",
        "colab": {},
        "outputId": "f5eb35fd-1cd1-44d8-b1e5-75f61158d466"
      },
      "source": [
        "data = pd.read_csv('kc_house_data.csv')\n",
        "print(data.head())\n",
        "print(data.info())\n",
        "print(data.describe())"
      ],
      "execution_count": 0,
      "outputs": [
        {
          "output_type": "stream",
          "text": [
            "           id             date     price  bedrooms  bathrooms  sqft_living  \\\n",
            "0  7129300520  20141013T000000  221900.0         3       1.00         1180   \n",
            "1  6414100192  20141209T000000  538000.0         3       2.25         2570   \n",
            "2  5631500400  20150225T000000  180000.0         2       1.00          770   \n",
            "3  2487200875  20141209T000000  604000.0         4       3.00         1960   \n",
            "4  1954400510  20150218T000000  510000.0         3       2.00         1680   \n",
            "\n",
            "   sqft_lot  floors  waterfront  view  ...  grade  sqft_above  sqft_basement  \\\n",
            "0      5650     1.0           0     0  ...      7        1180              0   \n",
            "1      7242     2.0           0     0  ...      7        2170            400   \n",
            "2     10000     1.0           0     0  ...      6         770              0   \n",
            "3      5000     1.0           0     0  ...      7        1050            910   \n",
            "4      8080     1.0           0     0  ...      8        1680              0   \n",
            "\n",
            "   yr_built  yr_renovated  zipcode      lat     long  sqft_living15  \\\n",
            "0      1955             0    98178  47.5112 -122.257           1340   \n",
            "1      1951          1991    98125  47.7210 -122.319           1690   \n",
            "2      1933             0    98028  47.7379 -122.233           2720   \n",
            "3      1965             0    98136  47.5208 -122.393           1360   \n",
            "4      1987             0    98074  47.6168 -122.045           1800   \n",
            "\n",
            "   sqft_lot15  \n",
            "0        5650  \n",
            "1        7639  \n",
            "2        8062  \n",
            "3        5000  \n",
            "4        7503  \n",
            "\n",
            "[5 rows x 21 columns]\n",
            "<class 'pandas.core.frame.DataFrame'>\n",
            "RangeIndex: 21613 entries, 0 to 21612\n",
            "Data columns (total 21 columns):\n",
            " #   Column         Non-Null Count  Dtype  \n",
            "---  ------         --------------  -----  \n",
            " 0   id             21613 non-null  int64  \n",
            " 1   date           21613 non-null  object \n",
            " 2   price          21613 non-null  float64\n",
            " 3   bedrooms       21613 non-null  int64  \n",
            " 4   bathrooms      21613 non-null  float64\n",
            " 5   sqft_living    21613 non-null  int64  \n",
            " 6   sqft_lot       21613 non-null  int64  \n",
            " 7   floors         21613 non-null  float64\n",
            " 8   waterfront     21613 non-null  int64  \n",
            " 9   view           21613 non-null  int64  \n",
            " 10  condition      21613 non-null  int64  \n",
            " 11  grade          21613 non-null  int64  \n",
            " 12  sqft_above     21613 non-null  int64  \n",
            " 13  sqft_basement  21613 non-null  int64  \n",
            " 14  yr_built       21613 non-null  int64  \n",
            " 15  yr_renovated   21613 non-null  int64  \n",
            " 16  zipcode        21613 non-null  int64  \n",
            " 17  lat            21613 non-null  float64\n",
            " 18  long           21613 non-null  float64\n",
            " 19  sqft_living15  21613 non-null  int64  \n",
            " 20  sqft_lot15     21613 non-null  int64  \n",
            "dtypes: float64(5), int64(15), object(1)\n",
            "memory usage: 3.4+ MB\n",
            "None\n",
            "                 id         price      bedrooms     bathrooms   sqft_living  \\\n",
            "count  2.161300e+04  2.161300e+04  21613.000000  21613.000000  21613.000000   \n",
            "mean   4.580302e+09  5.400881e+05      3.370842      2.114757   2079.899736   \n",
            "std    2.876566e+09  3.671272e+05      0.930062      0.770163    918.440897   \n",
            "min    1.000102e+06  7.500000e+04      0.000000      0.000000    290.000000   \n",
            "25%    2.123049e+09  3.219500e+05      3.000000      1.750000   1427.000000   \n",
            "50%    3.904930e+09  4.500000e+05      3.000000      2.250000   1910.000000   \n",
            "75%    7.308900e+09  6.450000e+05      4.000000      2.500000   2550.000000   \n",
            "max    9.900000e+09  7.700000e+06     33.000000      8.000000  13540.000000   \n",
            "\n",
            "           sqft_lot        floors    waterfront          view     condition  \\\n",
            "count  2.161300e+04  21613.000000  21613.000000  21613.000000  21613.000000   \n",
            "mean   1.510697e+04      1.494309      0.007542      0.234303      3.409430   \n",
            "std    4.142051e+04      0.539989      0.086517      0.766318      0.650743   \n",
            "min    5.200000e+02      1.000000      0.000000      0.000000      1.000000   \n",
            "25%    5.040000e+03      1.000000      0.000000      0.000000      3.000000   \n",
            "50%    7.618000e+03      1.500000      0.000000      0.000000      3.000000   \n",
            "75%    1.068800e+04      2.000000      0.000000      0.000000      4.000000   \n",
            "max    1.651359e+06      3.500000      1.000000      4.000000      5.000000   \n",
            "\n",
            "              grade    sqft_above  sqft_basement      yr_built  yr_renovated  \\\n",
            "count  21613.000000  21613.000000   21613.000000  21613.000000  21613.000000   \n",
            "mean       7.656873   1788.390691     291.509045   1971.005136     84.402258   \n",
            "std        1.175459    828.090978     442.575043     29.373411    401.679240   \n",
            "min        1.000000    290.000000       0.000000   1900.000000      0.000000   \n",
            "25%        7.000000   1190.000000       0.000000   1951.000000      0.000000   \n",
            "50%        7.000000   1560.000000       0.000000   1975.000000      0.000000   \n",
            "75%        8.000000   2210.000000     560.000000   1997.000000      0.000000   \n",
            "max       13.000000   9410.000000    4820.000000   2015.000000   2015.000000   \n",
            "\n",
            "            zipcode           lat          long  sqft_living15     sqft_lot15  \n",
            "count  21613.000000  21613.000000  21613.000000   21613.000000   21613.000000  \n",
            "mean   98077.939805     47.560053   -122.213896    1986.552492   12768.455652  \n",
            "std       53.505026      0.138564      0.140828     685.391304   27304.179631  \n",
            "min    98001.000000     47.155900   -122.519000     399.000000     651.000000  \n",
            "25%    98033.000000     47.471000   -122.328000    1490.000000    5100.000000  \n",
            "50%    98065.000000     47.571800   -122.230000    1840.000000    7620.000000  \n",
            "75%    98118.000000     47.678000   -122.125000    2360.000000   10083.000000  \n",
            "max    98199.000000     47.777600   -121.315000    6210.000000  871200.000000  \n"
          ],
          "name": "stdout"
        }
      ]
    },
    {
      "cell_type": "markdown",
      "metadata": {
        "id": "ac3dls4qlJEt",
        "colab_type": "text"
      },
      "source": [
        "### 3. Basic preprocessing "
      ]
    },
    {
      "cell_type": "code",
      "metadata": {
        "id": "mr9iaR7flJEx",
        "colab_type": "code",
        "colab": {},
        "outputId": "ddd274f0-b7e5-4922-e226-a9f4d4f3c398"
      },
      "source": [
        "data = data.drop(['id','date'], axis=1)\n",
        "data.head()"
      ],
      "execution_count": 0,
      "outputs": [
        {
          "output_type": "execute_result",
          "data": {
            "text/html": [
              "<div>\n",
              "<style scoped>\n",
              "    .dataframe tbody tr th:only-of-type {\n",
              "        vertical-align: middle;\n",
              "    }\n",
              "\n",
              "    .dataframe tbody tr th {\n",
              "        vertical-align: top;\n",
              "    }\n",
              "\n",
              "    .dataframe thead th {\n",
              "        text-align: right;\n",
              "    }\n",
              "</style>\n",
              "<table border=\"1\" class=\"dataframe\">\n",
              "  <thead>\n",
              "    <tr style=\"text-align: right;\">\n",
              "      <th></th>\n",
              "      <th>price</th>\n",
              "      <th>bedrooms</th>\n",
              "      <th>bathrooms</th>\n",
              "      <th>sqft_living</th>\n",
              "      <th>sqft_lot</th>\n",
              "      <th>floors</th>\n",
              "      <th>waterfront</th>\n",
              "      <th>view</th>\n",
              "      <th>condition</th>\n",
              "      <th>grade</th>\n",
              "      <th>sqft_above</th>\n",
              "      <th>sqft_basement</th>\n",
              "      <th>yr_built</th>\n",
              "      <th>yr_renovated</th>\n",
              "      <th>zipcode</th>\n",
              "      <th>lat</th>\n",
              "      <th>long</th>\n",
              "      <th>sqft_living15</th>\n",
              "      <th>sqft_lot15</th>\n",
              "    </tr>\n",
              "  </thead>\n",
              "  <tbody>\n",
              "    <tr>\n",
              "      <th>0</th>\n",
              "      <td>221900.0</td>\n",
              "      <td>3</td>\n",
              "      <td>1.00</td>\n",
              "      <td>1180</td>\n",
              "      <td>5650</td>\n",
              "      <td>1.0</td>\n",
              "      <td>0</td>\n",
              "      <td>0</td>\n",
              "      <td>3</td>\n",
              "      <td>7</td>\n",
              "      <td>1180</td>\n",
              "      <td>0</td>\n",
              "      <td>1955</td>\n",
              "      <td>0</td>\n",
              "      <td>98178</td>\n",
              "      <td>47.5112</td>\n",
              "      <td>-122.257</td>\n",
              "      <td>1340</td>\n",
              "      <td>5650</td>\n",
              "    </tr>\n",
              "    <tr>\n",
              "      <th>1</th>\n",
              "      <td>538000.0</td>\n",
              "      <td>3</td>\n",
              "      <td>2.25</td>\n",
              "      <td>2570</td>\n",
              "      <td>7242</td>\n",
              "      <td>2.0</td>\n",
              "      <td>0</td>\n",
              "      <td>0</td>\n",
              "      <td>3</td>\n",
              "      <td>7</td>\n",
              "      <td>2170</td>\n",
              "      <td>400</td>\n",
              "      <td>1951</td>\n",
              "      <td>1991</td>\n",
              "      <td>98125</td>\n",
              "      <td>47.7210</td>\n",
              "      <td>-122.319</td>\n",
              "      <td>1690</td>\n",
              "      <td>7639</td>\n",
              "    </tr>\n",
              "    <tr>\n",
              "      <th>2</th>\n",
              "      <td>180000.0</td>\n",
              "      <td>2</td>\n",
              "      <td>1.00</td>\n",
              "      <td>770</td>\n",
              "      <td>10000</td>\n",
              "      <td>1.0</td>\n",
              "      <td>0</td>\n",
              "      <td>0</td>\n",
              "      <td>3</td>\n",
              "      <td>6</td>\n",
              "      <td>770</td>\n",
              "      <td>0</td>\n",
              "      <td>1933</td>\n",
              "      <td>0</td>\n",
              "      <td>98028</td>\n",
              "      <td>47.7379</td>\n",
              "      <td>-122.233</td>\n",
              "      <td>2720</td>\n",
              "      <td>8062</td>\n",
              "    </tr>\n",
              "    <tr>\n",
              "      <th>3</th>\n",
              "      <td>604000.0</td>\n",
              "      <td>4</td>\n",
              "      <td>3.00</td>\n",
              "      <td>1960</td>\n",
              "      <td>5000</td>\n",
              "      <td>1.0</td>\n",
              "      <td>0</td>\n",
              "      <td>0</td>\n",
              "      <td>5</td>\n",
              "      <td>7</td>\n",
              "      <td>1050</td>\n",
              "      <td>910</td>\n",
              "      <td>1965</td>\n",
              "      <td>0</td>\n",
              "      <td>98136</td>\n",
              "      <td>47.5208</td>\n",
              "      <td>-122.393</td>\n",
              "      <td>1360</td>\n",
              "      <td>5000</td>\n",
              "    </tr>\n",
              "    <tr>\n",
              "      <th>4</th>\n",
              "      <td>510000.0</td>\n",
              "      <td>3</td>\n",
              "      <td>2.00</td>\n",
              "      <td>1680</td>\n",
              "      <td>8080</td>\n",
              "      <td>1.0</td>\n",
              "      <td>0</td>\n",
              "      <td>0</td>\n",
              "      <td>3</td>\n",
              "      <td>8</td>\n",
              "      <td>1680</td>\n",
              "      <td>0</td>\n",
              "      <td>1987</td>\n",
              "      <td>0</td>\n",
              "      <td>98074</td>\n",
              "      <td>47.6168</td>\n",
              "      <td>-122.045</td>\n",
              "      <td>1800</td>\n",
              "      <td>7503</td>\n",
              "    </tr>\n",
              "  </tbody>\n",
              "</table>\n",
              "</div>"
            ],
            "text/plain": [
              "      price  bedrooms  bathrooms  sqft_living  sqft_lot  floors  waterfront  \\\n",
              "0  221900.0         3       1.00         1180      5650     1.0           0   \n",
              "1  538000.0         3       2.25         2570      7242     2.0           0   \n",
              "2  180000.0         2       1.00          770     10000     1.0           0   \n",
              "3  604000.0         4       3.00         1960      5000     1.0           0   \n",
              "4  510000.0         3       2.00         1680      8080     1.0           0   \n",
              "\n",
              "   view  condition  grade  sqft_above  sqft_basement  yr_built  yr_renovated  \\\n",
              "0     0          3      7        1180              0      1955             0   \n",
              "1     0          3      7        2170            400      1951          1991   \n",
              "2     0          3      6         770              0      1933             0   \n",
              "3     0          5      7        1050            910      1965             0   \n",
              "4     0          3      8        1680              0      1987             0   \n",
              "\n",
              "   zipcode      lat     long  sqft_living15  sqft_lot15  \n",
              "0    98178  47.5112 -122.257           1340        5650  \n",
              "1    98125  47.7210 -122.319           1690        7639  \n",
              "2    98028  47.7379 -122.233           2720        8062  \n",
              "3    98136  47.5208 -122.393           1360        5000  \n",
              "4    98074  47.6168 -122.045           1800        7503  "
            ]
          },
          "metadata": {
            "tags": []
          },
          "execution_count": 3
        }
      ]
    },
    {
      "cell_type": "markdown",
      "metadata": {
        "id": "X8-nJFJXlJFF",
        "colab_type": "text"
      },
      "source": [
        "### 4. Splitting dataset into test and train "
      ]
    },
    {
      "cell_type": "code",
      "metadata": {
        "id": "c5nsFq7_lJFJ",
        "colab_type": "code",
        "colab": {},
        "outputId": "ebfc1cea-684b-4550-880a-552e660e49d0"
      },
      "source": [
        "x = data.drop(['price'],axis=1)\n",
        "y = data['price']\n",
        "print(x.head())\n",
        "print(y.head())\n",
        "x = np.asarray(x)\n",
        "y = np.asarray(y)\n",
        "\n",
        "x_train, x_test, y_train, y_test = train_test_split(x,y,test_size=0.23,random_state=42)"
      ],
      "execution_count": 0,
      "outputs": [
        {
          "output_type": "stream",
          "text": [
            "   bedrooms  bathrooms  sqft_living  sqft_lot  floors  waterfront  view  \\\n",
            "0         3       1.00         1180      5650     1.0           0     0   \n",
            "1         3       2.25         2570      7242     2.0           0     0   \n",
            "2         2       1.00          770     10000     1.0           0     0   \n",
            "3         4       3.00         1960      5000     1.0           0     0   \n",
            "4         3       2.00         1680      8080     1.0           0     0   \n",
            "\n",
            "   condition  grade  sqft_above  sqft_basement  yr_built  yr_renovated  \\\n",
            "0          3      7        1180              0      1955             0   \n",
            "1          3      7        2170            400      1951          1991   \n",
            "2          3      6         770              0      1933             0   \n",
            "3          5      7        1050            910      1965             0   \n",
            "4          3      8        1680              0      1987             0   \n",
            "\n",
            "   zipcode      lat     long  sqft_living15  sqft_lot15  \n",
            "0    98178  47.5112 -122.257           1340        5650  \n",
            "1    98125  47.7210 -122.319           1690        7639  \n",
            "2    98028  47.7379 -122.233           2720        8062  \n",
            "3    98136  47.5208 -122.393           1360        5000  \n",
            "4    98074  47.6168 -122.045           1800        7503  \n",
            "0    221900.0\n",
            "1    538000.0\n",
            "2    180000.0\n",
            "3    604000.0\n",
            "4    510000.0\n",
            "Name: price, dtype: float64\n"
          ],
          "name": "stdout"
        }
      ]
    },
    {
      "cell_type": "markdown",
      "metadata": {
        "id": "XNuslVkJlJFc",
        "colab_type": "text"
      },
      "source": [
        "### 5. Building the model "
      ]
    },
    {
      "cell_type": "code",
      "metadata": {
        "id": "L5ux_OEPlJFf",
        "colab_type": "code",
        "colab": {}
      },
      "source": [
        "# put your code here"
      ],
      "execution_count": 0,
      "outputs": []
    },
    {
      "cell_type": "markdown",
      "metadata": {
        "id": "_sWi--x9lJF0",
        "colab_type": "text"
      },
      "source": [
        "### 6. Predicting on test set "
      ]
    },
    {
      "cell_type": "code",
      "metadata": {
        "id": "JU8D5xyulJF4",
        "colab_type": "code",
        "colab": {}
      },
      "source": [
        ""
      ],
      "execution_count": 0,
      "outputs": []
    },
    {
      "cell_type": "markdown",
      "metadata": {
        "id": "IyJrz_NTlJGR",
        "colab_type": "text"
      },
      "source": [
        "### 7. Evaluating the model "
      ]
    },
    {
      "cell_type": "code",
      "metadata": {
        "id": "RISVwYSDlJGU",
        "colab_type": "code",
        "colab": {},
        "outputId": "02e23bb8-cdc7-4a7c-988e-251ef4faadf7"
      },
      "source": [
        "print(\"RMSE: \",math.sqrt(metrics.mean_squared_error(y_test,y_pred)))\n",
        "print(\"R^2: \",metrics.r2_score(y_test,y_pred))"
      ],
      "execution_count": 0,
      "outputs": [
        {
          "output_type": "stream",
          "text": [
            "RMSE:  20292.630194502206\n",
            "R^2:  0.5185138788052743\n"
          ],
          "name": "stdout"
        }
      ]
    },
    {
      "cell_type": "markdown",
      "metadata": {
        "id": "go6Up1FUlJGl",
        "colab_type": "text"
      },
      "source": [
        "ToDo:\n",
        "1. Scaling "
      ]
    },
    {
      "cell_type": "code",
      "metadata": {
        "id": "mo6tc9xBlJGt",
        "colab_type": "code",
        "colab": {}
      },
      "source": [
        ""
      ],
      "execution_count": 0,
      "outputs": []
    }
  ]
}