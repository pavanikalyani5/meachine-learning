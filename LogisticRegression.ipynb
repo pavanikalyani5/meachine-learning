{
  "nbformat": 4,
  "nbformat_minor": 0,
  "metadata": {
    "kernelspec": {
      "display_name": "Python 3.7.4 64-bit ('crime-analysis-report': pipenv)",
      "language": "python",
      "name": "python37464bitcrimeanalysisreportpipenv0ac31493bf424ed3a94c4babbaf0924e"
    },
    "language_info": {
      "codemirror_mode": {
        "name": "ipython",
        "version": 3
      },
      "file_extension": ".py",
      "mimetype": "text/x-python",
      "name": "python",
      "nbconvert_exporter": "python",
      "pygments_lexer": "ipython3",
      "version": "3.7.4"
    },
    "colab": {
      "name": "LogisticRegression.ipynb",
      "provenance": []
    }
  },
  "cells": [
    {
      "cell_type": "markdown",
      "metadata": {
        "id": "XaFOcsgJ5usZ",
        "colab_type": "text"
      },
      "source": [
        "# Logistic Regression"
      ]
    },
    {
      "cell_type": "code",
      "metadata": {
        "id": "aqxbjgh_5usc",
        "colab_type": "code",
        "colab": {}
      },
      "source": [
        "from sklearn.datasets import load_iris\n",
        "from sklearn.linear_model import LogisticRegression"
      ],
      "execution_count": 0,
      "outputs": []
    },
    {
      "cell_type": "markdown",
      "metadata": {
        "id": "X_OfI3JE5usi",
        "colab_type": "text"
      },
      "source": [
        "We are going to use the standard iris dataset to train our model"
      ]
    },
    {
      "cell_type": "code",
      "metadata": {
        "id": "ObY4krz25usj",
        "colab_type": "code",
        "colab": {}
      },
      "source": [
        "dataset = load_iris()\n",
        "X = dataset['data']\n",
        "Y = dataset['target']"
      ],
      "execution_count": 0,
      "outputs": []
    },
    {
      "cell_type": "code",
      "metadata": {
        "id": "QyaH-Mul5uso",
        "colab_type": "code",
        "outputId": "96c7ea07-f2a0-4dd9-d97a-2bfb231ff9df",
        "colab": {}
      },
      "source": [
        "X.shape"
      ],
      "execution_count": 0,
      "outputs": [
        {
          "output_type": "execute_result",
          "data": {
            "text/plain": [
              "(150, 4)"
            ]
          },
          "metadata": {
            "tags": []
          },
          "execution_count": 3
        }
      ]
    },
    {
      "cell_type": "markdown",
      "metadata": {
        "id": "Ft18QZvk5usu",
        "colab_type": "text"
      },
      "source": [
        "Before training our model, we need to perform some preprocessing steps on our dataset so that the accuracy of our model can be as high as possible.\n",
        "<br>\n",
        "1. We need to scale our features. This can be done by using sklearn's StandardScalar [Link to documentation](https://scikit-learn.org/stable/modules/generated/sklearn.preprocessing.StandardScaler.html)\n",
        "2. We need to split our dataset to check our testing/validation accuracy"
      ]
    },
    {
      "cell_type": "code",
      "metadata": {
        "id": "q-cMPt2A5usv",
        "colab_type": "code",
        "colab": {}
      },
      "source": [
        "from sklearn.preprocessing import StandardScaler\n",
        "from sklearn.model_selection import train_test_split"
      ],
      "execution_count": 0,
      "outputs": []
    },
    {
      "cell_type": "code",
      "metadata": {
        "id": "1hLUOG725us0",
        "colab_type": "code",
        "colab": {}
      },
      "source": [
        "X_train, X_test, Y_train, Y_test = train_test_split(X, Y, test_size=0.3)"
      ],
      "execution_count": 0,
      "outputs": []
    },
    {
      "cell_type": "code",
      "metadata": {
        "id": "AN1eG1tj5us4",
        "colab_type": "code",
        "outputId": "c53124d5-d6b1-45a5-832c-178c69c6d9f4",
        "colab": {}
      },
      "source": [
        "X_train.shape, X_test.shape"
      ],
      "execution_count": 0,
      "outputs": [
        {
          "output_type": "execute_result",
          "data": {
            "text/plain": [
              "((105, 4), (45, 4))"
            ]
          },
          "metadata": {
            "tags": []
          },
          "execution_count": 11
        }
      ]
    },
    {
      "cell_type": "code",
      "metadata": {
        "id": "KeI2rnks5us-",
        "colab_type": "code",
        "colab": {}
      },
      "source": [
        "standardizer = StandardScaler()"
      ],
      "execution_count": 0,
      "outputs": []
    },
    {
      "cell_type": "code",
      "metadata": {
        "id": "Oo2ZcJ4T5utD",
        "colab_type": "code",
        "colab": {}
      },
      "source": [
        "X_train = standardizer.fit_transform(X_train)\n",
        "X_test = standardizer.fit_transform(X_test)"
      ],
      "execution_count": 0,
      "outputs": []
    },
    {
      "cell_type": "markdown",
      "metadata": {
        "id": "5SSNqiiB5utH",
        "colab_type": "text"
      },
      "source": [
        "After doing all the above steps, initialize the LogisticRegression model and train it using it's **fit** method"
      ]
    },
    {
      "cell_type": "code",
      "metadata": {
        "id": "d24u-s1_5utI",
        "colab_type": "code",
        "outputId": "a85a8835-053d-4d48-b666-1d41c1cfd611",
        "colab": {}
      },
      "source": [
        "classifier = LogisticRegression()\n",
        "classifier.fit(X_train, Y_train)"
      ],
      "execution_count": 0,
      "outputs": [
        {
          "output_type": "execute_result",
          "data": {
            "text/plain": [
              "LogisticRegression(C=1.0, class_weight=None, dual=False, fit_intercept=True,\n",
              "                   intercept_scaling=1, l1_ratio=None, max_iter=100,\n",
              "                   multi_class='auto', n_jobs=None, penalty='l2',\n",
              "                   random_state=None, solver='lbfgs', tol=0.0001, verbose=0,\n",
              "                   warm_start=False)"
            ]
          },
          "metadata": {
            "tags": []
          },
          "execution_count": 14
        }
      ]
    },
    {
      "cell_type": "markdown",
      "metadata": {
        "id": "mOTuxi0q5utP",
        "colab_type": "text"
      },
      "source": [
        "After the training process is complete, we can now predict our testing examples to get **y_pred**"
      ]
    },
    {
      "cell_type": "code",
      "metadata": {
        "id": "cTboHf3V5utQ",
        "colab_type": "code",
        "colab": {}
      },
      "source": [
        "Y_pred = classifier.predict(X_test)"
      ],
      "execution_count": 0,
      "outputs": []
    },
    {
      "cell_type": "markdown",
      "metadata": {
        "id": "QLMaLKgQ5utW",
        "colab_type": "text"
      },
      "source": [
        "To get the accuracy,f-score,precision of our model, import the **classification_report** method to calculate the metrics"
      ]
    },
    {
      "cell_type": "code",
      "metadata": {
        "id": "t1xq3RDe5utX",
        "colab_type": "code",
        "colab": {}
      },
      "source": [
        "from sklearn.metrics import classification_report"
      ],
      "execution_count": 0,
      "outputs": []
    },
    {
      "cell_type": "code",
      "metadata": {
        "id": "4QfFCpX15utc",
        "colab_type": "code",
        "outputId": "f7121baa-7a1e-417e-d431-5ffcb5336893",
        "colab": {}
      },
      "source": [
        "print (classification_report(Y_test, Y_pred))"
      ],
      "execution_count": 0,
      "outputs": [
        {
          "output_type": "stream",
          "text": [
            "              precision    recall  f1-score   support\n",
            "\n",
            "           0       1.00      1.00      1.00        10\n",
            "           1       0.71      1.00      0.83        17\n",
            "           2       1.00      0.61      0.76        18\n",
            "\n",
            "    accuracy                           0.84        45\n",
            "   macro avg       0.90      0.87      0.86        45\n",
            "weighted avg       0.89      0.84      0.84        45\n",
            "\n"
          ],
          "name": "stdout"
        }
      ]
    }
  ]
}