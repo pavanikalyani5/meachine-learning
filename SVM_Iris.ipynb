{
  "nbformat": 4,
  "nbformat_minor": 0,
  "metadata": {
    "kernelspec": {
      "display_name": "Python 3.7.4 64-bit ('crime-analysis-report': pipenv)",
      "language": "python",
      "name": "python37464bitcrimeanalysisreportpipenv0ac31493bf424ed3a94c4babbaf0924e"
    },
    "language_info": {
      "codemirror_mode": {
        "name": "ipython",
        "version": 3
      },
      "file_extension": ".py",
      "mimetype": "text/x-python",
      "name": "python",
      "nbconvert_exporter": "python",
      "pygments_lexer": "ipython3",
      "version": "3.7.4"
    },
    "colab": {
      "name": "SVM_Iris.ipynb",
      "provenance": []
    }
  },
  "cells": [
    {
      "cell_type": "markdown",
      "metadata": {
        "id": "40yLwpxc_viq",
        "colab_type": "text"
      },
      "source": [
        "# Support Vector Machines "
      ]
    },
    {
      "cell_type": "code",
      "metadata": {
        "id": "C6Vh2urw_vjI",
        "colab_type": "code",
        "colab": {}
      },
      "source": [
        "from sklearn.model_selection import train_test_split\n",
        "from sklearn.svm import SVC\n",
        "from sklearn.datasets import load_iris"
      ],
      "execution_count": 0,
      "outputs": []
    },
    {
      "cell_type": "markdown",
      "metadata": {
        "id": "oeyS9kXB_vk9",
        "colab_type": "text"
      },
      "source": [
        "We are going to perform classification task on the iris dataset which is easily available through the sklearn module"
      ]
    },
    {
      "cell_type": "code",
      "metadata": {
        "id": "MFz1p_D1_vlF",
        "colab_type": "code",
        "colab": {}
      },
      "source": [
        "dataset = load_iris() # load the dataset\n",
        "X = dataset.data\n",
        "Y = dataset.target"
      ],
      "execution_count": 0,
      "outputs": []
    },
    {
      "cell_type": "markdown",
      "metadata": {
        "id": "A8pCChRQ_vmP",
        "colab_type": "text"
      },
      "source": [
        "Split the dataset into training and testing/validation datasets"
      ]
    },
    {
      "cell_type": "code",
      "metadata": {
        "id": "dnRs7Aab_vmT",
        "colab_type": "code",
        "colab": {}
      },
      "source": [
        "X_train, X_test, Y_train, Y_test = train_test_split(X, Y, test_size=0.3)"
      ],
      "execution_count": 0,
      "outputs": []
    },
    {
      "cell_type": "code",
      "metadata": {
        "id": "f7SmIXs8_vmo",
        "colab_type": "code",
        "colab": {},
        "outputId": "0df8e6b0-4b0b-4214-d906-734e01339593"
      },
      "source": [
        "X_train.shape, X_test.shape"
      ],
      "execution_count": 0,
      "outputs": [
        {
          "output_type": "execute_result",
          "data": {
            "text/plain": [
              "((105, 4), (45, 4))"
            ]
          },
          "metadata": {
            "tags": []
          },
          "execution_count": 4
        }
      ]
    },
    {
      "cell_type": "markdown",
      "metadata": {
        "id": "f_sJiw22_vnE",
        "colab_type": "text"
      },
      "source": [
        "Now, initialize your Support Vector Class from the sklearn library and run the **fit** method to train it on our dataset"
      ]
    },
    {
      "cell_type": "code",
      "metadata": {
        "id": "ltN629zN_vnO",
        "colab_type": "code",
        "colab": {},
        "outputId": "dc7c1820-d172-4741-9e60-788f216be56d"
      },
      "source": [
        "classifier = SVC()\n",
        "classifier.fit(X_train, Y_train)"
      ],
      "execution_count": 0,
      "outputs": [
        {
          "output_type": "execute_result",
          "data": {
            "text/plain": [
              "SVC(C=1.0, break_ties=False, cache_size=200, class_weight=None, coef0=0.0,\n",
              "    decision_function_shape='ovr', degree=3, gamma='scale', kernel='rbf',\n",
              "    max_iter=-1, probability=False, random_state=None, shrinking=True,\n",
              "    tol=0.001, verbose=False)"
            ]
          },
          "metadata": {
            "tags": []
          },
          "execution_count": 5
        }
      ]
    },
    {
      "cell_type": "markdown",
      "metadata": {
        "id": "83mvcwMg_vnj",
        "colab_type": "text"
      },
      "source": [
        "Now, input the testing examples to get **y_pred**"
      ]
    },
    {
      "cell_type": "code",
      "metadata": {
        "id": "22PUx943_vno",
        "colab_type": "code",
        "colab": {}
      },
      "source": [
        "Y_pred = classifier.predict(X_test)"
      ],
      "execution_count": 0,
      "outputs": []
    },
    {
      "cell_type": "markdown",
      "metadata": {
        "id": "nbBLqhYC_vn-",
        "colab_type": "text"
      },
      "source": [
        "After getting your predictions from X_test, calculate the metrics of your model"
      ]
    },
    {
      "cell_type": "code",
      "metadata": {
        "id": "XpwtjYX6_voB",
        "colab_type": "code",
        "colab": {}
      },
      "source": [
        "from sklearn.metrics import classification_report"
      ],
      "execution_count": 0,
      "outputs": []
    },
    {
      "cell_type": "code",
      "metadata": {
        "id": "36UIGxyK_vod",
        "colab_type": "code",
        "colab": {},
        "outputId": "a621a5de-906f-4afd-cb7e-cbc1057bc9cd"
      },
      "source": [
        "print(classification_report(Y_test, Y_pred))"
      ],
      "execution_count": 0,
      "outputs": [
        {
          "output_type": "stream",
          "text": [
            "              precision    recall  f1-score   support\n",
            "\n",
            "           0       1.00      1.00      1.00        16\n",
            "           1       1.00      0.94      0.97        17\n",
            "           2       0.92      1.00      0.96        12\n",
            "\n",
            "    accuracy                           0.98        45\n",
            "   macro avg       0.97      0.98      0.98        45\n",
            "weighted avg       0.98      0.98      0.98        45\n",
            "\n"
          ],
          "name": "stdout"
        }
      ]
    },
    {
      "cell_type": "code",
      "metadata": {
        "id": "dF5zuKhB_vpU",
        "colab_type": "code",
        "colab": {}
      },
      "source": [
        ""
      ],
      "execution_count": 0,
      "outputs": []
    },
    {
      "cell_type": "code",
      "metadata": {
        "id": "0JVGAGMm_vp2",
        "colab_type": "code",
        "colab": {}
      },
      "source": [
        ""
      ],
      "execution_count": 0,
      "outputs": []
    }
  ]
}