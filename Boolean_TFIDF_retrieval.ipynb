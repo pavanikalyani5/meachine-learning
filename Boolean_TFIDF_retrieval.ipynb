{
  "nbformat": 4,
  "nbformat_minor": 0,
  "metadata": {
    "kernelspec": {
      "display_name": "Python 3",
      "language": "python",
      "name": "python3"
    },
    "language_info": {
      "codemirror_mode": {
        "name": "ipython",
        "version": 3
      },
      "file_extension": ".py",
      "mimetype": "text/x-python",
      "name": "python",
      "nbconvert_exporter": "python",
      "pygments_lexer": "ipython3",
      "version": "3.5.2"
    },
    "colab": {
      "name": "Boolean-TFIDF-retrieval.ipynb",
      "provenance": []
    }
  },
  "cells": [
    {
      "cell_type": "markdown",
      "metadata": {
        "id": "9ShE3xoAGACl",
        "colab_type": "text"
      },
      "source": [
        "# Text Retrieval \n",
        "In this demo, we will try to address the problem of text retrieval using two approaches <br> \n",
        "1. Boolean Retrieval mechanism \n",
        "2. TF-IDF scores \n",
        "\n",
        "## 1. Import Packages"
      ]
    },
    {
      "cell_type": "code",
      "metadata": {
        "id": "jx8WdFT-GACo",
        "colab_type": "code",
        "colab": {}
      },
      "source": [
        "import numpy as np\n",
        "import pandas as pd\n",
        "\n",
        "from sklearn.feature_extraction.text import TfidfVectorizer\n",
        "from sklearn.feature_extraction.text import CountVectorizer\n",
        "from sklearn.metrics.pairwise import cosine_similarity"
      ],
      "execution_count": 0,
      "outputs": []
    },
    {
      "cell_type": "markdown",
      "metadata": {
        "id": "-O2cnmpJGAC3",
        "colab_type": "text"
      },
      "source": [
        "## 2. Read Dataset \n",
        "The dataset is a song database which has 2 columns <br>  \n",
        "1. Song name \n",
        "2. Lyrics of the song <br> \n",
        "Our typical query would be to retrieve the song name from the lyrics which are given as a query. "
      ]
    },
    {
      "cell_type": "code",
      "metadata": {
        "id": "JY3ArSEdGAC5",
        "colab_type": "code",
        "colab": {},
        "outputId": "c15a319e-d4ab-4ac3-e805-0043821de75d"
      },
      "source": [
        "df = pd.read_csv('taylor_swift_song_lyrics.csv', encoding='mac_roman')\n",
        "print(df.head())"
      ],
      "execution_count": 0,
      "outputs": [
        {
          "output_type": "stream",
          "text": [
            "              track_title                                              lyric\n",
            "0        ...Ready for It?  Knew he was a killer first time that I saw him...\n",
            "1                      22  It feels like a perfect night to dress up like...\n",
            "2  A Perfectly Good Heart  Why would you wanna break a perfectly good hea...\n",
            "3   A Place In This World  I don't know what I want, so don't ask me Caus...\n",
            "4            All Too Well  I walked through the door with you, the air wa...\n"
          ],
          "name": "stdout"
        }
      ]
    },
    {
      "cell_type": "markdown",
      "metadata": {
        "id": "BSf9h1aOGADb",
        "colab_type": "text"
      },
      "source": [
        "# TF-IDF Search Engine"
      ]
    },
    {
      "cell_type": "code",
      "metadata": {
        "id": "C_0OAbZdGADc",
        "colab_type": "code",
        "colab": {},
        "outputId": "8852dc90-9a1e-458b-93a8-f28f0fde67fb"
      },
      "source": [
        "# Get tf-idf matrix using fit_transform function\n",
        "vectorizer = TfidfVectorizer()\n",
        "X = vectorizer.fit_transform(df['lyric']) # Store tf-idf representations of all docs\n",
        "print(X.shape) # (Number of songs, Number of unique words)"
      ],
      "execution_count": 0,
      "outputs": [
        {
          "output_type": "stream",
          "text": [
            "(94, 2301)\n"
          ],
          "name": "stdout"
        }
      ]
    },
    {
      "cell_type": "markdown",
      "metadata": {
        "id": "NW7EHKWjGADo",
        "colab_type": "text"
      },
      "source": [
        "# Query Processing"
      ]
    },
    {
      "cell_type": "code",
      "metadata": {
        "id": "HRWZf9t0GADq",
        "colab_type": "code",
        "colab": {}
      },
      "source": [
        "query = \"I don't know about you\"\n",
        "query_vec = vectorizer.transform([query]) \n",
        "# calculating cosine similarity of query with vectors in the dataset \n",
        "results = cosine_similarity(X,query_vec).reshape((-1,))"
      ],
      "execution_count": 0,
      "outputs": []
    },
    {
      "cell_type": "markdown",
      "metadata": {
        "id": "aTfeEHkrGAD2",
        "colab_type": "text"
      },
      "source": [
        "# Print Results"
      ]
    },
    {
      "cell_type": "code",
      "metadata": {
        "id": "DNBN5YDxGAD4",
        "colab_type": "code",
        "colab": {},
        "outputId": "293adc16-2e72-4edc-a282-ee33cf65ad6f"
      },
      "source": [
        "# Print Top 10 results\n",
        "for i in results.argsort()[-10:][::-1]:\n",
        "    print(df.iloc[i,0],\"--\",df.iloc[i,1]+\"\\n\")"
      ],
      "execution_count": 0,
      "outputs": [
        {
          "output_type": "stream",
          "text": [
            "Everything Has Changed (Ft.‚Ä†Ed‚Ä†Sheeran) -- All I knew this morning when I woke Is I know something now, know something now I didn't before And all I've seen since 18 hours ago is green eyes and freckles and your smile In the back of my mind making me feel like I just want to know you better Know you better, know you better now I just want to know you better Know you better, know you better now I just want to know you better Know you better, know you better now I just want to know you, know you, know you 'Cause all I know is we said hello And your eyes look like coming home All I know is a simple name, everything has changed All I know is you held the door You'll be mine and I'll be yours All I know since yesterday is everything has changed Taylor Swift And all my walls stood tall painted blue And I'll take them down Take them down and open up the door for you And all I feel in my stomach is butterflies The beautiful kind, making up for lost time Taking flight, making me feel like I just want to know you better Know you better, know you better now I just want to know you better Know you better, know you better now I just want to know you better Know you better, know you better now I just want to know you, know you, know you 'Cause all I know is we said hello And your eyes look like coming home All I know is a simple name, everything has changed All I know is you held the door You'll be mine and I'll be yours All I know since yesterday is everything has changed Come back and tell me why I'm feeling like i've missed you all this time And meet me there tonight And let me know that it's not all in my mind I just want to know you better Know you better, know you better now I just want to know you, know you, know you 'Cause all I know is we said hello And your eyes look lIke coming home All I know is a simple name, everything has changed All I know is you held the door You'll be mine and I'll be yours All I know since yesterday is everything has changed All I know is we said hello So dust off your highest hopes All I know is pouring rain And everything has changed All I know is a new found grace All my days, I'll know your face All I know since yesterday is everything has changed\n",
            "\n",
            "Tell Me Why -- I took a chance I took a shot And you might think I'm bulletproof But I'm not You took a swing I took it hard And down here from the ground I see who you are I'm sick and tired of your attitude I'm feeling like I don't know you You tell me that you love me, then you cut me down And I need you like a heartbeat But you know you got a mean streak That makes me run for cover when you're around And here's to you and your temper Yes, I remember what you said last night And I know, that you see, what you're doing to me Tell me why You could write a book on how to ruin someone's perfect day Well I get so confused and frustrated Forget what I'm trying to say, oh I'm sick and tired of your reasons I got no one to believe in You tell me that you want me, then push me around And I need you like a heartbeat But you know you got a mean streak That makes me run for cover when you're around Here's to you and your temper Yes, I remember what you said last night And I know, that you see, what you're doing to me Tell me why Why do you have to make me feel small So you can feel whole inside? Why do you have to put down my dreams So you're the only thing on my mind? I'm sick and tired of your attitude I'm feeling like I don't know you You tell me that you want me, then cut me down I'm sick and tired of your reasons I've got no one to believe in You ask me for my love, then you push me around Here's to you and your temper Yes, I remember what you said last night And I know that you see what you're doing to me Tell me why (why) Tell me why (why) I take a step back, let you go I told you I'm not bulletproof Now you know\n",
            "\n",
            "I'm Only Me When I'm With You -- Friday night beneath the stars In a field behind your yard You and I are painting pictures in the sky And sometimes we don't say a thing Just listen to the crickets sing Everything I need is right here by my side And I know everything about you I don't wanna live without you I'm only up when you're not down Don't wanna fly if you're still on the ground It's like no matter what I do Well you drive me crazy half the time The other half I'm only trying to let you know that what I feel is true And I'm only me when I'm with you Just a small town boy and girl Living in a crazy world Trying to figure out what is and isn't true And I don't try to hide my tears The secrets or my deepest fears Through it all nobody gets me like you do And you know everything about me You say that you can't live without me I'm only up when you're not down Don't wanna fly if you're still on the ground It's like no matter what I do Well you drive me crazy half the time The other half I'm only trying to let you know that what I feel is true And I'm only me when I'm with you When I'm with anybody else it's so hard to be myself Only you can tell That I'm only up when you're not down Don't wanna fly if you're still on the ground It's like no matter what I do Well you drive me crazy half the time The other half I'm only trying to let you know that what I feel is true And I'm only me Who I wanna be Well, I'm only me when I'm with you With you Uh huh Yeah\n",
            "\n",
            "The Best Day -- I'm five years old, it's getting cold, I've got my big coat on I hear your laugh and look up smiling at you, I run and run Past the pumpkin patch and the tractor rides Look now, the sky is gold I hug your legs and fall asleep on the way home I don't know why all the trees change in the fall But I know you're not scared of anything at all Don't know if Snow White's house is near or far away But I know I had the best day with you today I'm thirteen now And don't know how my friends could be so mean I come home crying and you hold me tight and grab the keys And we drive and drive until we found a town far enough away And we talk and window shop 'til I've forgotten all their names I don't know who I'm going to talk to now at school But I know I'm laughing on the car ride home with you Don't know how long it's going to take to feel okay But I know I had the best day with you today I have an excellent father, his strength is making me stronger God smiles on my little brother, inside and out He's better than I am I grew up in a pretty house and I had space to run And I had the best days with you There is a video I found from back when I was three You set up a paint set in the kitchen and you're talking to me It's the age of princesses and pirate ships and the seven dwarfs And Daddy's smart And you're the prettiest lady in the whole wide world And now I know why all the trees change in the fall I know you were on my side even when I was wrong And I love you for giving me your eyes For staying back and watching me shine And I didn't know if you knew, so I'm taking this chance to say That I had the best day with you today\n",
            "\n",
            "You Belong With Me -- You're on the phone with your girlfriend, she's upset She's going off about something that you said 'Cause she doesn't get your humor like I do I'm in the room, it's a typical Tuesday night I'm listening to the kind of music she doesn't like And she'll never know your story like I do But she wears short skirts, I wear T-shirts She's Cheer Captain and I'm on the bleachers Dreaming about the day when you wake up and find That what you're looking for has been here the whole time If you could see that I'm the one who understands you Been here all along, so why can't you see? You belong with me, you belong with me Walking the streets with you and your worn-out jeans I can't help thinking this is how it ought to be Laughing on a park bench, thinking to myself Hey, isn't this easy? And you've got a smile that could light up this whole town I haven't seen it in a while since she brought you down You say you're fine, I know you better than that Hey, whatcha doing with a girl like that? She wears high heels, I wear sneakers She's Cheer Captain and I'm on the bleachers Dreaming about the day when you wake up and find That what you're looking for has been here the whole time If you could see that I'm the one who understands you Been here all along, so why can't you see? You belong with me Standing by and waiting at your back door All this time how could you not know, baby? You belong with me, you belong with me Oh, I remember you driving to my house In the middle of the night I'm the one who makes you laugh When you know you're 'bout to cry And I know your favorite songs And you tell me 'bout your dreams Think I know where you belong Think I know it's with me Can't you see that I'm the one who understands you Been here all along, so why can't you see? You belong with me Standing by and waiting at your back door All this time how could you not know, baby? You belong with me, you belong with me You belong with me Have you ever thought just maybe You belong with me? You belong with me\n",
            "\n",
            "I Almost Do -- I bet this time of night you're still up I bet you're tired from a long hard week I bet you're sitting in your chair by the window Looking out at the city And I bet sometimes you wonder about me And I just want to tell you It takes everything in me not to call you And I wish I could run to you And I hope you know that Everytime I don't I almost do, I almost do I bet you think I either moved on or hate you √´Cause each time you reach out there's no reply I bet it never, ever occurred to you that I can't say hello to you And risk another goodbye And I just want to tell you It takes everything in me not to call you And I wish I could run to you And I hope you know that Everytime I don't I almost do, I almost do Oh, we made quite a mess, babe It's probably better off this way And I confess, baby In my dreams you're touching my face And asking me if I'd want to try again with you And I almost do And I just want to tell you It takes everything in me not to call you And I wish I could run to you And I hope you know that Everytime I don't I almost do, I almost do I bet this time of night you're still up I bet you're tired from a long hard week I bet you're sittin' in your chair by the window Looking out at the city And I hope sometimes you wonder about me\n",
            "\n",
            "22 -- It feels like a perfect night to dress up like hipsters And make fun of our exes, uh uh, uh uh It feels like a perfect night for breakfast at midnight To fall in love with strangers, uh uh, uh uh Yeah We're happy, free, confused, and lonely at the same time It's miserable and magical, oh yeah Tonight's the night when we forget about the deadlines It's time, uh uh I don't know about you, but I'm feeling 22 Everything will be alright if you keep me next to you You don't know about me, but I bet you wanted to Everything will be alright if we just keep dancing like we're 22 22 It seems like one of those nights This place is too crowded, too many cool kids, uh uh, uh uh (Who's Taylor Swift, anyway? Ew) It seems like one of those nights We ditch the whole scene and end up dreaming Instead of sleeping Yeah We're happy, free, confused, and lonely in the best way It's miserable and magical, oh yeah Tonight's the night when we forget about The heartbreaks, it's time Oh oh I don't know about you, but I'm feeling 22 Everything will be alright if you keep me next to you You don't know about me, but I bet you wanted to Everything will be alright if we just keep dancing like we're 22 22 I don't know about you 22, 22 It feels like one of those nights We ditch the whole scene It feels like one of those nights We won't be sleeping It feels like one of those nights You look like bad news, I gotta have you I gotta have you I don't know about you, but I'm feeling 22 Everything will be alright if you keep me next to you You don't know about me, but I bet you wanted to Everything will be alright if we just keep dancing like we're 22 22 Dancing like 22, yeah, 22, yeah yeah It feels like one of those nights We ditch the whole scene It feels like one of those nights We won't be sleeping It feels like one of those nights You look like bad news, I gotta have you I gotta have you\n",
            "\n",
            "Fearless -- There's something 'bout the way The street looks when it's just rained There's a glow off the pavement You walk me to the car And you know I wanna ask you to dance right there In the middle of the parking lot, yeah Oh, yeah We're driving down the road I wonder if you know I'm trying so hard not to get caught up now But you're just so cool Run your hands through your hair Absent mindedly making me want you And I don't know how it gets better than this You take my hand and drag me head first Fearless And I don't know why but with you I'd dance in a storm in my best dress Fearless So baby drive slow 'til we run out of road in this one horse town I wanna stay right here in this passenger's seat You put your eyes on me In this moment now capture it, remember it And I don't know how it gets better than this You take my hand and drag me head first Fearless And I don't know why but with you I'd dance in a storm in my best dress Fearless Well you stood there with me in the doorway My hands shake, I'm not usually this way but You pull me in and I'm a little more brave It's the first kiss, it's flawless, really something It's fearless Oh, yeah And I don't know how it gets better than this You take my hand and drag me head first Fearless And I don't know why but with you I'd dance in a storm in my best dress Fearless And I don't know how it gets better than this You take my hand and drag me head first Fearless And I don't know why but with you I'd dance in a storm in my best dress Fearless Oh oh Oh yeah\n",
            "\n",
            "Come Back... Be Here -- You said it in a simple way 4 AM, the second day How strange that I don't know you at all Stumbled through the long goodbye One last kiss, then catch your flight Right when I was just about to fall I told myself don't get attached But in my mind I play it back Spinning faster than the plane that took you And this is when the feeling sinks in I don't wanna miss you like this Come back be here, come back be here I guess you're in New York today I don't wanna need you this way Come back be here, come back be here The delicate beginning rush The feeling you can know so much Without knowing anything at all And now that I can put this down If I had known what I'd known now I never would have played so nonchalant Taxi cabs and busy streets That never bring you back to me I can't help but wish you took me with you And this is when the feeling sinks in I don't wanna miss you like this Come back be here, come back be here I guess you're in London today I don't wanna need you this way Come back be here, come back be here This is falling in love in the cruelest way This is falling for you and you are worlds away New York be here But you're in London and I break down Cause it's not fair that you're not around I don't wanna miss you like this Come back be here Come back be here\n",
            "\n",
            "You're Not Sorry -- All this time I was wasting hoping you would come around I've been giving out chances every time and all you do is let me down And it's taken me this long baby but I've figured you out And you're thinking we'll be fine again but not this time around You don't have to call anymore I won't pick up the phone This is the last straw Don't wanna hurt anymore And you can tell me that you're sorry But I don't believe you baby like I did before You're not sorry (No no no no) You're looking so innocent I might believe you if I didn't know Could've loved you all my life if you hadn't left me waiting in the cold And you've got your share of secrets And I'm tired of being last to know And now you're asking me to listen 'cause it's worked each time before but You don't have to call anymore I won't pick up the phone This is the last straw Don't wanna hurt anymore And you can tell me that you're sorry But I don't believe you baby like I did before You're not sorry (No no no no) You're not sorry (No no no no) You had me crawling for you honey and it never would have gone away You used to shine so bright but I watched all of it fade so You don't have to call anymore I won't pick up the phone This is the last straw There's nothing left to beg for And you can tell me that you're sorry But I don't believe you baby like I did before You're not sorry (No no no no) You're not sorry (No no no no) (No, no, no...)\n",
            "\n"
          ],
          "name": "stdout"
        }
      ]
    },
    {
      "cell_type": "markdown",
      "metadata": {
        "id": "npMHHU4VGAEA",
        "colab_type": "text"
      },
      "source": [
        "# Boolean Retrieval Model"
      ]
    },
    {
      "cell_type": "code",
      "metadata": {
        "id": "_G1znJ3MGAEC",
        "colab_type": "code",
        "colab": {},
        "outputId": "61487a6c-ed4d-4078-a482-9acf33956c7f"
      },
      "source": [
        "brm_vectorizer = CountVectorizer(binary=True)\n",
        "brm_X = brm_vectorizer.fit_transform(df['lyric'])\n",
        "print(brm_X.shape) # (Number of songs, Number of unique words)"
      ],
      "execution_count": 0,
      "outputs": [
        {
          "output_type": "stream",
          "text": [
            "(94, 2301)\n"
          ],
          "name": "stdout"
        }
      ]
    },
    {
      "cell_type": "code",
      "metadata": {
        "id": "_snY62BWGAEP",
        "colab_type": "code",
        "colab": {},
        "outputId": "488157d8-2f13-48b4-a438-0bd06068e354"
      },
      "source": [
        "word1 = 'dancing'\n",
        "word2 = 'confused'\n",
        "# getting the index of matrix location where the boolean value is 1\n",
        "w1vec = brm_X[:,brm_vectorizer.vocabulary_[word1]]\n",
        "print(w1vec) \n",
        "w2vec = brm_X[:,brm_vectorizer.vocabulary_[word2]]\n",
        "print(w2vec)"
      ],
      "execution_count": 0,
      "outputs": [
        {
          "output_type": "stream",
          "text": [
            "  (1, 0)\t1\n",
            "  (4, 0)\t1\n",
            "  (17, 0)\t1\n",
            "  (22, 0)\t1\n",
            "  (26, 0)\t1\n",
            "  (33, 0)\t1\n",
            "  (45, 0)\t1\n",
            "  (53, 0)\t1\n",
            "  (61, 0)\t1\n",
            "  (66, 0)\t1\n",
            "  (91, 0)\t1\n",
            "  (1, 0)\t1\n",
            "  (73, 0)\t1\n",
            "  (76, 0)\t1\n"
          ],
          "name": "stdout"
        }
      ]
    },
    {
      "cell_type": "code",
      "metadata": {
        "id": "V7z8ZmKQGAEa",
        "colab_type": "code",
        "colab": {},
        "outputId": "669b772c-56ac-4c29-93bc-b09c47bb4335"
      },
      "source": [
        "# AND Operation\n",
        "for i in range(w1vec.shape[0]):\n",
        "    if w1vec[i]==1 and w2vec[i]==1:\n",
        "        print(df.iloc[i,0] + \" ---- \" + df.iloc[i,1]+\"\\n\")"
      ],
      "execution_count": 0,
      "outputs": [
        {
          "output_type": "stream",
          "text": [
            "22 ---- It feels like a perfect night to dress up like hipsters And make fun of our exes, uh uh, uh uh It feels like a perfect night for breakfast at midnight To fall in love with strangers, uh uh, uh uh Yeah We're happy, free, confused, and lonely at the same time It's miserable and magical, oh yeah Tonight's the night when we forget about the deadlines It's time, uh uh I don't know about you, but I'm feeling 22 Everything will be alright if you keep me next to you You don't know about me, but I bet you wanted to Everything will be alright if we just keep dancing like we're 22 22 It seems like one of those nights This place is too crowded, too many cool kids, uh uh, uh uh (Who's Taylor Swift, anyway? Ew) It seems like one of those nights We ditch the whole scene and end up dreaming Instead of sleeping Yeah We're happy, free, confused, and lonely in the best way It's miserable and magical, oh yeah Tonight's the night when we forget about The heartbreaks, it's time Oh oh I don't know about you, but I'm feeling 22 Everything will be alright if you keep me next to you You don't know about me, but I bet you wanted to Everything will be alright if we just keep dancing like we're 22 22 I don't know about you 22, 22 It feels like one of those nights We ditch the whole scene It feels like one of those nights We won't be sleeping It feels like one of those nights You look like bad news, I gotta have you I gotta have you I don't know about you, but I'm feeling 22 Everything will be alright if you keep me next to you You don't know about me, but I bet you wanted to Everything will be alright if we just keep dancing like we're 22 22 Dancing like 22, yeah, 22, yeah yeah It feels like one of those nights We ditch the whole scene It feels like one of those nights We won't be sleeping It feels like one of those nights You look like bad news, I gotta have you I gotta have you\n",
            "\n"
          ],
          "name": "stdout"
        }
      ]
    },
    {
      "cell_type": "code",
      "metadata": {
        "id": "Z_lZef-cGAEm",
        "colab_type": "code",
        "colab": {},
        "outputId": "a3ae9076-26d8-48f4-ab24-92e643f01588"
      },
      "source": [
        "# OR Operation\n",
        "for i in range(w1vec.shape[0]):\n",
        "    if w1vec[i]==1 or w2vec[i]==1:\n",
        "        print(df.iloc[i,0] + \" ---- \" + df.iloc[i,1]+\"\\n\")"
      ],
      "execution_count": 0,
      "outputs": [
        {
          "output_type": "stream",
          "text": [
            "22 ---- It feels like a perfect night to dress up like hipsters And make fun of our exes, uh uh, uh uh It feels like a perfect night for breakfast at midnight To fall in love with strangers, uh uh, uh uh Yeah We're happy, free, confused, and lonely at the same time It's miserable and magical, oh yeah Tonight's the night when we forget about the deadlines It's time, uh uh I don't know about you, but I'm feeling 22 Everything will be alright if you keep me next to you You don't know about me, but I bet you wanted to Everything will be alright if we just keep dancing like we're 22 22 It seems like one of those nights This place is too crowded, too many cool kids, uh uh, uh uh (Who's Taylor Swift, anyway? Ew) It seems like one of those nights We ditch the whole scene and end up dreaming Instead of sleeping Yeah We're happy, free, confused, and lonely in the best way It's miserable and magical, oh yeah Tonight's the night when we forget about The heartbreaks, it's time Oh oh I don't know about you, but I'm feeling 22 Everything will be alright if you keep me next to you You don't know about me, but I bet you wanted to Everything will be alright if we just keep dancing like we're 22 22 I don't know about you 22, 22 It feels like one of those nights We ditch the whole scene It feels like one of those nights We won't be sleeping It feels like one of those nights You look like bad news, I gotta have you I gotta have you I don't know about you, but I'm feeling 22 Everything will be alright if you keep me next to you You don't know about me, but I bet you wanted to Everything will be alright if we just keep dancing like we're 22 22 Dancing like 22, yeah, 22, yeah yeah It feels like one of those nights We ditch the whole scene It feels like one of those nights We won't be sleeping It feels like one of those nights You look like bad news, I gotta have you I gotta have you\n",
            "\n",
            "All Too Well ---- I walked through the door with you, the air was cold But something 'bout it felt like home somehow and I Left my scarf there at your sister's house And you've still got it in your drawer, even now Oh, your sweet disposition And my wide-eyed gaze We're singing in a car getting lost Upstate The autumn leaves falling down like pieces into place And I can picture it after all these days And I know it's long gone, and that magic's not here no more And I might be okay, but I'm not fine at all 'Cause there we are again on that little town street You almost ran the red 'cause you were looking over at me Wind in my hair, I was there, I remember it all too well Photo album on the counter Your cheeks were turning red You used to be a little kid with glasses in a twin-sized bed And your mother's telling stories 'bout you on the tee ball team You taught me about your past thinking your future was me And I know it's long gone, and there was nothing else I could do And I forget about you long enough to forget why I needed to 'Cause there we are again in the middle of the night We're dancing round the kitchen in the refrigerator light Down the stairs, I was there, I remember it all too well, yeah And maybe we got lost in translation Maybe I asked for too much But maybe this thing was a masterpiece 'Till you tore it all up Running scared, I was there, I remember it all too well And you call me up again just to break me like a promise So casually cruel in the name of being honest I'm a crumpled up piece of paper lying here 'Cause I remember it all, all, all... too well Time won't fly it's like I'm paralyzed by it I'd like to be my old self again But I'm still trying to find it After plaid shirt days and nights when you made me your own Now you mail back my things and I walk home alone But you keep my old scarf from that very first week 'Cause it reminds you of innocence and it smells like me You can't get rid of it, 'cause you remember it all too well, yeah Because there we are again when I loved you so Back before you lost the one real thing you've ever known It was rare, I was there, I remember it all too well Wind in my hair, you were there, you remember it all Down the stairs, you were there, you remember it all It was rare, I was there, I remember it all too well\n",
            "\n",
            "Dancing With Our Hands Tied ---- I, I loved you in secret First sight, yeah, we love without reason Oh, twenty-five years old Oh, how were you to know? And My, my love had been frozen Deep blue, but you painted me golden Oh, and you held me close Oh, how was I to know? I√± Could've spent forever with your hands in my pockets Picture of your face in an invisible locket You said there was nothing in the world that could stop it I had a bad feeling And darling, you had turned my bed into a sacred oasis People started talking, putting us through our paces I knew there was no one in the world who could take it I had a bad feeling But we were dancing Dancing with our hands tied, hands tied Yeah, we were dancing Like it was the first time, first time Yeah, we were dancing Dancing with our hands tied, hands tied Yeah, we were dancing And I had a bad feeling But we were dancing I, I loved you in spite of Deep fears that the world would divide us So, baby, can we dance? Oh, through an avalanche? And Say, say that we got it I'm a mess, but I'm the mess that you wanted Oh, 'cause it's gravity Oh, keeping you with me, I√± Could've spent forever with your hands in my pockets Picture of your face in an invisible locket You said there was nothing in the world that could stop it I had a bad feeling But we were dancing Dancing with our hands tied, hands tied Yeah, we were dancing Like it was the first time, first time Yeah, we were dancing Dancing with our hands tied, hands tied Yeah, we were dancing (Knew we had our hands tied) And I had a bad feeling But we were dancing I'd kiss you as the lights went out Swaying as the room burned down I'd hold you as the water rushes in If I could dance with you again I'd kiss you as the lights went out Swaying as the room burned down I'd hold you as the water rushes in If I could dance with you again (Again!) Dancing with our hands tied, hands tied (Oh) Yeah, we were dancing Like it was the first time, first time Yeah, we were dancing (oh!) Dancing with our hands tied, hands tied (Dancing with our hands tied) Yeah, we were dancing And I had a bad feeling (had a bad feeling) But we were dancing Hands tied, hands tied (Dancing)\n",
            "\n",
            "Enchanted ---- There I was again tonight Forcing laughter, faking smiles Same old tired, lonely place Walls of insincerity, shifting eyes and vacancy Vanished when I saw your face All I can say is It was enchanting to meet you Your eyes whispered \"have we met?\" Across the room your silhouette Starts to make its way to me The playful conversation starts Counter all your quick remarks Like passing notes in secrecy And it was Enchanting to meet you All I can say is I was enchanted to meet you This night is sparkling Don't you let it go I'm wonderstruck Blushing all the way home I'll spend forever Wondering if you knew I was enchanted to meet you The lingering question kept me up 2AM, who do you love? I wonder 'til I'm wide awake And now I'm pacing back and forth Wishing you were at my door I'd open up and you would say \"hey\" It was Enchanting to meet you All I know is I was Enchanted to meet you This night is sparkling Don't you let it go I'm wonderstruck Blushing all the way home I'll spend forever Wondering if you knew This night is flawless Don't you let it go I'm wonderstruck Dancing around all alone I'll spend forever Wondering if you knew I was enchanted to meet you This is me praying that This was the very first page Not where the storyline ends My thoughts will echo your name Until I see you again These are the words I held back As I was leaving too soon I was enchanted to meet you Please don't be in love With someone else Please don't have somebody Waiting on you Please don't be in love With someone else Please don't have somebody Waiting on you This night is sparkling Don't you let it go I'm wonderstruck Blushing all the way home I'll spend forever Wondering if you knew This night is flawless Don't you let it go I'm wonderstruck Dancing around all alone I'll spend forever Wondering if you knew I was enchanted to meet you Please don't be in love With someone else Please don't have somebody Waiting on you\n",
            "\n",
            "Fifteen ---- You take a deep breath and you walk through the doors It's the morning of your very first day You say hi to your friends you ain't seen in a while Try and stay out of everybody's way It's your freshman year and you're going to be here For the next four years in this town Hoping one of those senior boys will wink at you and say \"You know, I haven't seen you around before\" Because when you're fifteen and somebody tells you they love you You're going to believe them And when you're fifteen feeling like there's nothing to figure out Well, count to ten, take it in This is life before you know who you're going to be Fifteen You sit in class next to a redhead named Abigail And soon enough you're best friends Laughing at the other girls who think they're so cool We'll be outta here as soon as we can And then you're on your very first date and he's got a car And you're feeling like flying And your momma's waiting up and you're thinking he's the one And you're dancing 'round your room when the night ends When the night ends Because when you're fifteen and somebody tells you they love you You're going to believe them When you're fifteen and your first kiss Makes your head spin 'round But in your life you'll do things greater than Dating the boy on the football team But I didn't know it at fifteen When all you wanted was to be wanted Wish you could go back and tell yourself what you know now Back then I swore I was going to marry him someday But I realized some bigger dreams of mine And Abigail gave everything she had to a boy Who changed his mind and we both cried Because when you're fifteen and somebody tells you they love you You're going to believe them And when you're fifteen, don't forget to look before you fall I've found time can heal most anything And you just might find who you're supposed to be I didn't know who I was supposed to be at fifteen La la la la la la la la la la La la la la la la la la la la La la la la la la Your very first day Take a deep breath girl Take a deep breath as you walk through the doors\n",
            "\n",
            "Holy Ground ---- I was reminiscing just the other day While having coffee all alone and Lord, it took me away Back to a first-glance feeling on New York time Back when you fit my poems like a perfect rhyme Took off faster than a green light, go Hey, you skip the conversation when you already know I left a note on the door with a joke we'd made And that was the first day And darling, it was good never looking down And right there where we stood was holy ground Spinning like a girl in a brand new dress We had this big wide city all to ourselves We blocked the noise with the sound of 'I need you' And for the first time I had something to lose And I guess we fell apart in the usual way And the story's got dust on every page But sometimes I wonder how you think about it now And I see your face in every crowd 'Cause darling, it was good never looking down And right there where we stood was holy ground Tonight I'm gonna dance for all that we've been through But I don't wanna dance if I'm not dancing with you Tonight I'm gonna dance like you were in this room But I don't wanna dance if I'm not dancing with you It was good never looking down And right there where we stood was holy ground Tonight I'm gonna dance for all that we've been through But I don't wanna dance if I'm not dancing with you Tonight I'm gonna dance like you were in this room But I don't wanna dance if I'm not dancing with you\n",
            "\n",
            "Last Kiss ---- I still remember the look on your face Lit through the darkness at 1:58 The words that you whispered For just us to know You told me you loved me So why did you go away? Away I do recall now the smell of the rain Fresh on the pavement I ran off the plane That July 9th The beat of your heart It jumps through your shirt I can still feel your arms But now I'll go sit on the floor Wearing your clothes All that I know is I don't know how to be something you miss I never thought we'd have a last kiss Never imagined we'd end like this Your name, forever the name on my lips I do remember the swing of your step The life of the party, you're showing off again And I roll my eyes and then You pull me in I'm not much for dancing But for you I did Because I love your handshake, meeting my father I love how you walk with your hands in your pockets How you kissed me when I was in the middle of saying something There's not a day I don't miss those rude interruptions But now I'll go sit on the floor Wearing your clothes All that I know is I don't know how to be something you miss I never thought we'd have a last kiss Never imagined we'd end like this Your name, forever the name on my lips So I'll watch your life in pictures like I used to watch you sleep And I feel you forget me like I used to feel you breathe And I keep up with our old friends just to ask them how you are Hope it's nice where you are And I hope the sun shines And it's a beautiful day And something reminds you You wish you had stayed You can plan for a change in weather and time But I never planned on you changing your mind So I'll go sit on the floor Wearing your clothes All that I know is I don't know how to be something you miss I never thought we'd have a last kiss Never imagined we'd end like this Your name, forever the name on my lips Just like our last kiss Forever the name on my lips Forever the name on my lips Just like our last\n",
            "\n",
            "New Romantics ---- We're all bored, we're all so tired of everything We wait for trains that just aren't coming We show off our different scarlet letters Trust me, mine is better We're so young, but we're on the road to ruin We play dumb but we know exactly what we're doing We cry tears of mascara in the bathroom Honey, life is just a classroom 'Cause baby I could build a castle Out of all the bricks they threw at me And every day is like a battle But every night with us is like a dream Baby we're the new romantics Come on, come along with me Heartbreak is the national anthem We sing it proudly We're too busy dancing to get knocked off our feet Baby we're the new romantics The best people in life are free We're all here, the lights and noise are blinding We hang back it's all in the timing It's poker, you can't see it in my face But I'm about to play my Ace We need love but all we want is danger We team up then switch sides like a record changer The rumors are terrible and cruel But honey most of them are true 'Cause baby I could build a castle Out of all the bricks they threw at me And every day is like a battle But every night with us is like a dream Baby we're the new romantics Come on, come along with me Heartbreak is the national anthem We sing it proudly We're too busy dancing to get knocked off our feet Baby we're the new romantics The best people in life are free Please take my hand and Please take me dancing and Please leave me stranded It's so romantic, it's so romantic 'Cause baby I could build a castle Out of all the bricks they threw at me And every day is like a battle But every night with us is like a dream 'Cause baby I could build a castle Out of all the bricks they threw at me And every day is like a battle But every night with us is like a dream Baby we're the new romantics Come on, come along with me Heartbreak is the national anthem We sing it proudly We're too busy dancing to get knocked off our feet Baby we're the new romantics The best people in life are free\n",
            "\n",
            "Shake It Off ---- I stay out too late Got nothing in my brain That's what people say, mmm, mmm That's what people say, mmm, mmm I go on too many dates But I can't make them stay At least that's what people say, mmm, mmm That's what people say, mmm, mmm But I keep cruisin' Can't stop, won't stop movin' It's like I got this music in my mind Saying it's gonna be alright 'Cause the players gonna play, play, play, play, play And the haters gonna hate, hate, hate, hate, hate Baby, I'm just gonna shake, shake, shake, shake, shake I shake it off,  I shake it off Heartbreakers gonna break, break, break, break, break And the fakers gonna fake, fake, fake, fake, fake Baby, I'm just gonna shake, shake, shake, shake, shake I shake it off, I shake it off I never miss a beat I'm lightning on my feet And that's what they don't see, mmm, mmm That's what they don't see, mmm, mmm I'm dancing on my own (dancing on my own) I make the moves up as I go (moves up as I go) And that's what they don't know, mmm, mmm That's what they don't know, mmm, mmm But I keep cruisin' Can't stop, won't stop groovin' It's like I got this music in my mind Saying it's gonna be alright 'Cause the players gonna play, play, play, play, play And the haters gonna hate, hate, hate, hate, hate Baby, I'm just gonna shake, shake, shake, shake, shake I shake it off,  I shake it off Heartbreakers gonna break, break, break, break, break And the fakers gonna fake, fake, fake, fake, fake Baby, I'm just gonna shake, shake, shake, shake, shake I shake it off, I shake it off Shake it off, I shake it off I, I, I shake it off, I shake it off I, I, I shake it off, I shake it off I, I, I shake it off, I shake it off Hey, hey, hey Just think while you've been getting down and out about the liars And dirty, dirty cheats of the world you could've been getting down to this sick beat My ex-man brought his new girlfriend She's like, √¨Oh my God√Æ, but I'm just gonna shake And to the fella over there with the hella good hair Won't you come on over, baby, we can shake, shake, shake Yeah, oh, oh, oh, oh 'Cause the players gonna play, play, play, play, play And the haters gonna hate, hate, hate, hate, hate (haters gonna hate) Baby, I'm just gonna shake, shake, shake, shake, shake I shake it off,  I shake it off Heartbreakers gonna break, break, break, break, break (mmhm) And the fakers gonna fake, fake, fake, fake, fake (fake n' fake n' fake) Baby, I'm just gonna shake, shake, shake, shake, shake I shake it off, I shake it off Shake it off, I shake it off I, I, I shake it off, I shake it off I, I, I shake it off, I shake it off I, I, I shake it off, I shake it off Shake it off, I shake it off I, I, I shake it off, I shake it off I, I, I shake it off, I shake it off I, I, I shake it off, I shake it off (yeah!) Shake it off, I shake it off I, I, I shake it off, I shake it off (you got to) I, I, I shake it off, I shake it off I, I, I shake it off, I shake it off\n",
            "\n",
            "Starlight ---- I said, \"Oh my, what a marvelous tune\" It was the best night, never would forget how we moved The whole place was dressed to the nines And we were dancing, dancing Like we're made of starlight Like we're made of starlight I met Bobby on the boardwalk, summer of '45 Picked me up, late one night at the window We were 17 and crazy, running wild, wild Can't remember what song it was playing when we walked in The night we snuck into a yacht club party Pretending to be a duchess and a prince And I said, \"Oh my, what a marvelous tune\" It was the best night, never would forget how we moved The whole place was dressed to the nines And we were dancing, dancing Like we're made of starlight, starlight Like we're made of starlight, starlight He said, \"Look at you worrying too much about things you can't change You'll spend your whole life singing the blues if you keep thinking that way\" He was trying to skip rocks on the ocean saying to me \"Don't you see the starlight, starlight? Don't you dream impossible things?\" Like, \"Oh my, what a marvelous tune\" It was the best night, never would forget how we moved The whole place was dressed to the nines And we were dancing, dancing Like we're made of starlight, starlight Like we're made of starlight, starlight Ooh, ooh, he's talking crazy Ooh, ooh, dancing with me Ooh, ooh, we could get married Have ten kids and teach 'em how to dream Oh my, what a marvelous tune It was the best night, never would forget how we moved The whole place was dressed to the nines And we were dancing, dancing Like we're made of starlight, starlight Like we're made of starlight, starlight Like we're made of starlight, starlight Like we dream impossible dreams Like starlight, starlight Like we dream impossible dreams Don't you see the starlight, starlight? Don't you dream impossible things?\n",
            "\n",
            "Tell Me Why ---- I took a chance I took a shot And you might think I'm bulletproof But I'm not You took a swing I took it hard And down here from the ground I see who you are I'm sick and tired of your attitude I'm feeling like I don't know you You tell me that you love me, then you cut me down And I need you like a heartbeat But you know you got a mean streak That makes me run for cover when you're around And here's to you and your temper Yes, I remember what you said last night And I know, that you see, what you're doing to me Tell me why You could write a book on how to ruin someone's perfect day Well I get so confused and frustrated Forget what I'm trying to say, oh I'm sick and tired of your reasons I got no one to believe in You tell me that you want me, then push me around And I need you like a heartbeat But you know you got a mean streak That makes me run for cover when you're around Here's to you and your temper Yes, I remember what you said last night And I know, that you see, what you're doing to me Tell me why Why do you have to make me feel small So you can feel whole inside? Why do you have to put down my dreams So you're the only thing on my mind? I'm sick and tired of your attitude I'm feeling like I don't know you You tell me that you want me, then cut me down I'm sick and tired of your reasons I've got no one to believe in You ask me for my love, then you push me around Here's to you and your temper Yes, I remember what you said last night And I know that you see what you're doing to me Tell me why (why) Tell me why (why) I take a step back, let you go I told you I'm not bulletproof Now you know\n",
            "\n",
            "The Lucky One ---- New to town with a made up name In the angel city, chasing fortune and fame And the camera flashes, make it look like a dream You had it figured out since you were in school Everybody loves pretty, everybody loves cool So overnight you look like a sixties' queen Another name goes up in lights, like diamonds in the sky And they'll tell you now, you're the lucky one Yeah, they'll tell you now, you're the lucky one But can you tell me now, you're the lucky one, oh, oh, oh Now it's big black cars, and Riviera views And your lover in the foyer doesn't even know you And your secrets end up splashed on the news front page And they tell you that you're lucky But you're so confused Cause you don't feel pretty, you just feel used And all the young things line up to take your place Another name goes up in lights You wonder if you'll make it out alive And they'll tell you now, you're the lucky one Yeah, they'll tell you now, you're the lucky one But can you tell me now, you're the lucky one, oh, oh, oh It was a few years later, I showed up here And they still tell the legend of how you disappeared How you took the money and your dignity, and got the hell out They say you bought a bunch of land somewhere Chose a rose garden over Madison Square And it took some time, but I understand it now √´Cause now my name is up in lights, but I think you got it right Let me tell you now, you're the lucky one Let me tell you now, you're the lucky one Let me tell you now, you're the lucky one, oh, oh, oh And they'll tell you now, you're the lucky one Yeah, they'll tell you now, you're the lucky one And they'll tell you now, you're the lucky one, oh, oh, oh Oh, whoa, oh, oh\n",
            "\n",
            "You Are in Love ---- One look, dark room, meant just for you Time moved too fast, you play it back Buttons on a coat, lighthearted joke No proof, not much, but you saw enough Small talk, he drives, coffee at midnight The light reflects the chain on your neck He says, \"Look up\" and your shoulders brush No proof, one touch, you felt enough You can hear it in the silence, silence, you You can feel it on the way home, way home, you You can see it with the lights out, lights out You are in love, true love You are in love Morning, his place, burnt toast, Sunday You keep his shirt, he keeps his word And for once you let go of your fears and your ghosts One step, not much, but it said enough You kiss on side walks, you fight and you talk One night he wakes, strange look on his face Pauses, then says \"You're my best friend.\" And you knew what it was, he is in love You can hear it in the silence, silence, you You can feel it on the way home, way home, you You can see it with the lights out, lights out You are in love, true love And so it goes... You two are dancing in the snowglobe round and round And he keeps a picture of you in his office downtown And you understand now why they lost their minds and fought the wars And why I spent my whole life trying to put it into words 'Cause you can hear it in the silence You can feel it on the way home You can see it with the lights out You are in love, true love You are in love! You can hear it in the silence, silence, you You can feel it on the way home, way home, you You can see it with the lights out, lights out You are in love, true love You are in love You can hear it in the silence, silence, you You can feel it on the way home, way home, you You can see it with the lights out, lights out You are in love, true love You are in love\n",
            "\n"
          ],
          "name": "stdout"
        }
      ]
    },
    {
      "cell_type": "code",
      "metadata": {
        "id": "eSFogjznGAEt",
        "colab_type": "code",
        "colab": {}
      },
      "source": [
        ""
      ],
      "execution_count": 0,
      "outputs": []
    }
  ]
}