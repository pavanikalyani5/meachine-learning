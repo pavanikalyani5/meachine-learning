{
  "nbformat": 4,
  "nbformat_minor": 0,
  "metadata": {
    "kernelspec": {
      "display_name": "Python 3",
      "language": "python",
      "name": "python3"
    },
    "language_info": {
      "codemirror_mode": {
        "name": "ipython",
        "version": 3
      },
      "file_extension": ".py",
      "mimetype": "text/x-python",
      "name": "python",
      "nbconvert_exporter": "python",
      "pygments_lexer": "ipython3",
      "version": "3.5.2"
    },
    "colab": {
      "name": "DBSCAN.ipynb",
      "provenance": []
    }
  },
  "cells": [
    {
      "cell_type": "markdown",
      "metadata": {
        "id": "utT5JRMJfhRv",
        "colab_type": "text"
      },
      "source": [
        "# DBSCAN clustering \n",
        "\n",
        "In this notebook, we will try to cluster the same credit card dataset using DBSCAN algorithm. \n",
        "We will also experiment with different values of epsilon and min_pts and observe how it affects our resulting clusters. <br>\n",
        "\n",
        "### 1. Importing required libraries "
      ]
    },
    {
      "cell_type": "code",
      "metadata": {
        "id": "rRJlofUJfhR1",
        "colab_type": "code",
        "colab": {}
      },
      "source": [
        "import numpy as np \n",
        "import pandas as pd \n",
        "import matplotlib.pyplot as plt \n",
        "  \n",
        "from sklearn.cluster import DBSCAN \n",
        "from sklearn.preprocessing import MinMaxScaler \n",
        "from sklearn.preprocessing import normalize \n",
        "from sklearn.decomposition import PCA \n",
        "import seaborn as sns"
      ],
      "execution_count": 0,
      "outputs": []
    },
    {
      "cell_type": "markdown",
      "metadata": {
        "id": "RF5ixon0fhSU",
        "colab_type": "text"
      },
      "source": [
        "### 2. Reading the dataset "
      ]
    },
    {
      "cell_type": "code",
      "metadata": {
        "id": "fsysJCSJfhSc",
        "colab_type": "code",
        "colab": {},
        "outputId": "1d6c8c7a-39a9-4f6a-82f3-c89b2eb30a85"
      },
      "source": [
        "data = pd.read_csv('CC GENERAL.csv') \n",
        "data.head()\n"
      ],
      "execution_count": 0,
      "outputs": [
        {
          "output_type": "execute_result",
          "data": {
            "text/html": [
              "<div>\n",
              "<style scoped>\n",
              "    .dataframe tbody tr th:only-of-type {\n",
              "        vertical-align: middle;\n",
              "    }\n",
              "\n",
              "    .dataframe tbody tr th {\n",
              "        vertical-align: top;\n",
              "    }\n",
              "\n",
              "    .dataframe thead th {\n",
              "        text-align: right;\n",
              "    }\n",
              "</style>\n",
              "<table border=\"1\" class=\"dataframe\">\n",
              "  <thead>\n",
              "    <tr style=\"text-align: right;\">\n",
              "      <th></th>\n",
              "      <th>CUST_ID</th>\n",
              "      <th>BALANCE</th>\n",
              "      <th>BALANCE_FREQUENCY</th>\n",
              "      <th>PURCHASES</th>\n",
              "      <th>ONEOFF_PURCHASES</th>\n",
              "      <th>INSTALLMENTS_PURCHASES</th>\n",
              "      <th>CASH_ADVANCE</th>\n",
              "      <th>PURCHASES_FREQUENCY</th>\n",
              "      <th>ONEOFF_PURCHASES_FREQUENCY</th>\n",
              "      <th>PURCHASES_INSTALLMENTS_FREQUENCY</th>\n",
              "      <th>CASH_ADVANCE_FREQUENCY</th>\n",
              "      <th>CASH_ADVANCE_TRX</th>\n",
              "      <th>PURCHASES_TRX</th>\n",
              "      <th>CREDIT_LIMIT</th>\n",
              "      <th>PAYMENTS</th>\n",
              "      <th>MINIMUM_PAYMENTS</th>\n",
              "      <th>PRC_FULL_PAYMENT</th>\n",
              "      <th>TENURE</th>\n",
              "    </tr>\n",
              "  </thead>\n",
              "  <tbody>\n",
              "    <tr>\n",
              "      <th>0</th>\n",
              "      <td>C10001</td>\n",
              "      <td>40.900749</td>\n",
              "      <td>0.818182</td>\n",
              "      <td>95.40</td>\n",
              "      <td>0.00</td>\n",
              "      <td>95.4</td>\n",
              "      <td>0.000000</td>\n",
              "      <td>0.166667</td>\n",
              "      <td>0.000000</td>\n",
              "      <td>0.083333</td>\n",
              "      <td>0.000000</td>\n",
              "      <td>0</td>\n",
              "      <td>2</td>\n",
              "      <td>1000.0</td>\n",
              "      <td>201.802084</td>\n",
              "      <td>139.509787</td>\n",
              "      <td>0.000000</td>\n",
              "      <td>12</td>\n",
              "    </tr>\n",
              "    <tr>\n",
              "      <th>1</th>\n",
              "      <td>C10002</td>\n",
              "      <td>3202.467416</td>\n",
              "      <td>0.909091</td>\n",
              "      <td>0.00</td>\n",
              "      <td>0.00</td>\n",
              "      <td>0.0</td>\n",
              "      <td>6442.945483</td>\n",
              "      <td>0.000000</td>\n",
              "      <td>0.000000</td>\n",
              "      <td>0.000000</td>\n",
              "      <td>0.250000</td>\n",
              "      <td>4</td>\n",
              "      <td>0</td>\n",
              "      <td>7000.0</td>\n",
              "      <td>4103.032597</td>\n",
              "      <td>1072.340217</td>\n",
              "      <td>0.222222</td>\n",
              "      <td>12</td>\n",
              "    </tr>\n",
              "    <tr>\n",
              "      <th>2</th>\n",
              "      <td>C10003</td>\n",
              "      <td>2495.148862</td>\n",
              "      <td>1.000000</td>\n",
              "      <td>773.17</td>\n",
              "      <td>773.17</td>\n",
              "      <td>0.0</td>\n",
              "      <td>0.000000</td>\n",
              "      <td>1.000000</td>\n",
              "      <td>1.000000</td>\n",
              "      <td>0.000000</td>\n",
              "      <td>0.000000</td>\n",
              "      <td>0</td>\n",
              "      <td>12</td>\n",
              "      <td>7500.0</td>\n",
              "      <td>622.066742</td>\n",
              "      <td>627.284787</td>\n",
              "      <td>0.000000</td>\n",
              "      <td>12</td>\n",
              "    </tr>\n",
              "    <tr>\n",
              "      <th>3</th>\n",
              "      <td>C10004</td>\n",
              "      <td>1666.670542</td>\n",
              "      <td>0.636364</td>\n",
              "      <td>1499.00</td>\n",
              "      <td>1499.00</td>\n",
              "      <td>0.0</td>\n",
              "      <td>205.788017</td>\n",
              "      <td>0.083333</td>\n",
              "      <td>0.083333</td>\n",
              "      <td>0.000000</td>\n",
              "      <td>0.083333</td>\n",
              "      <td>1</td>\n",
              "      <td>1</td>\n",
              "      <td>7500.0</td>\n",
              "      <td>0.000000</td>\n",
              "      <td>NaN</td>\n",
              "      <td>0.000000</td>\n",
              "      <td>12</td>\n",
              "    </tr>\n",
              "    <tr>\n",
              "      <th>4</th>\n",
              "      <td>C10005</td>\n",
              "      <td>817.714335</td>\n",
              "      <td>1.000000</td>\n",
              "      <td>16.00</td>\n",
              "      <td>16.00</td>\n",
              "      <td>0.0</td>\n",
              "      <td>0.000000</td>\n",
              "      <td>0.083333</td>\n",
              "      <td>0.083333</td>\n",
              "      <td>0.000000</td>\n",
              "      <td>0.000000</td>\n",
              "      <td>0</td>\n",
              "      <td>1</td>\n",
              "      <td>1200.0</td>\n",
              "      <td>678.334763</td>\n",
              "      <td>244.791237</td>\n",
              "      <td>0.000000</td>\n",
              "      <td>12</td>\n",
              "    </tr>\n",
              "  </tbody>\n",
              "</table>\n",
              "</div>"
            ],
            "text/plain": [
              "  CUST_ID      BALANCE  BALANCE_FREQUENCY  PURCHASES  ONEOFF_PURCHASES  \\\n",
              "0  C10001    40.900749           0.818182      95.40              0.00   \n",
              "1  C10002  3202.467416           0.909091       0.00              0.00   \n",
              "2  C10003  2495.148862           1.000000     773.17            773.17   \n",
              "3  C10004  1666.670542           0.636364    1499.00           1499.00   \n",
              "4  C10005   817.714335           1.000000      16.00             16.00   \n",
              "\n",
              "   INSTALLMENTS_PURCHASES  CASH_ADVANCE  PURCHASES_FREQUENCY  \\\n",
              "0                    95.4      0.000000             0.166667   \n",
              "1                     0.0   6442.945483             0.000000   \n",
              "2                     0.0      0.000000             1.000000   \n",
              "3                     0.0    205.788017             0.083333   \n",
              "4                     0.0      0.000000             0.083333   \n",
              "\n",
              "   ONEOFF_PURCHASES_FREQUENCY  PURCHASES_INSTALLMENTS_FREQUENCY  \\\n",
              "0                    0.000000                          0.083333   \n",
              "1                    0.000000                          0.000000   \n",
              "2                    1.000000                          0.000000   \n",
              "3                    0.083333                          0.000000   \n",
              "4                    0.083333                          0.000000   \n",
              "\n",
              "   CASH_ADVANCE_FREQUENCY  CASH_ADVANCE_TRX  PURCHASES_TRX  CREDIT_LIMIT  \\\n",
              "0                0.000000                 0              2        1000.0   \n",
              "1                0.250000                 4              0        7000.0   \n",
              "2                0.000000                 0             12        7500.0   \n",
              "3                0.083333                 1              1        7500.0   \n",
              "4                0.000000                 0              1        1200.0   \n",
              "\n",
              "      PAYMENTS  MINIMUM_PAYMENTS  PRC_FULL_PAYMENT  TENURE  \n",
              "0   201.802084        139.509787          0.000000      12  \n",
              "1  4103.032597       1072.340217          0.222222      12  \n",
              "2   622.066742        627.284787          0.000000      12  \n",
              "3     0.000000               NaN          0.000000      12  \n",
              "4   678.334763        244.791237          0.000000      12  "
            ]
          },
          "metadata": {
            "tags": []
          },
          "execution_count": 10
        }
      ]
    },
    {
      "cell_type": "markdown",
      "metadata": {
        "id": "VUn25EWofhS1",
        "colab_type": "text"
      },
      "source": [
        "### 3. Basic preprocessing "
      ]
    },
    {
      "cell_type": "code",
      "metadata": {
        "id": "fAhQBVDgfhS7",
        "colab_type": "code",
        "colab": {},
        "outputId": "24ed7703-4d08-4e68-bb78-18b70896a34e"
      },
      "source": [
        "# Dropping the CUST_ID column from the data \n",
        "data = data.drop('CUST_ID', axis = 1) \n",
        "  \n",
        "# Handling the missing values \n",
        "data.fillna(method ='ffill', inplace = True) \n",
        "  \n",
        "print(data.head()) \n",
        "\n",
        "# Scaling the data to bring all the attributes to a comparable level \n",
        "scaler = MinMaxScaler()\n",
        "data[data.columns] = scaler.fit_transform(data[data.columns])\n",
        "print(data.head()) \n"
      ],
      "execution_count": 0,
      "outputs": [
        {
          "output_type": "stream",
          "text": [
            "       BALANCE  BALANCE_FREQUENCY  PURCHASES  ONEOFF_PURCHASES  \\\n",
            "0    40.900749           0.818182      95.40              0.00   \n",
            "1  3202.467416           0.909091       0.00              0.00   \n",
            "2  2495.148862           1.000000     773.17            773.17   \n",
            "3  1666.670542           0.636364    1499.00           1499.00   \n",
            "4   817.714335           1.000000      16.00             16.00   \n",
            "\n",
            "   INSTALLMENTS_PURCHASES  CASH_ADVANCE  PURCHASES_FREQUENCY  \\\n",
            "0                    95.4      0.000000             0.166667   \n",
            "1                     0.0   6442.945483             0.000000   \n",
            "2                     0.0      0.000000             1.000000   \n",
            "3                     0.0    205.788017             0.083333   \n",
            "4                     0.0      0.000000             0.083333   \n",
            "\n",
            "   ONEOFF_PURCHASES_FREQUENCY  PURCHASES_INSTALLMENTS_FREQUENCY  \\\n",
            "0                    0.000000                          0.083333   \n",
            "1                    0.000000                          0.000000   \n",
            "2                    1.000000                          0.000000   \n",
            "3                    0.083333                          0.000000   \n",
            "4                    0.083333                          0.000000   \n",
            "\n",
            "   CASH_ADVANCE_FREQUENCY  CASH_ADVANCE_TRX  PURCHASES_TRX  CREDIT_LIMIT  \\\n",
            "0                0.000000                 0              2        1000.0   \n",
            "1                0.250000                 4              0        7000.0   \n",
            "2                0.000000                 0             12        7500.0   \n",
            "3                0.083333                 1              1        7500.0   \n",
            "4                0.000000                 0              1        1200.0   \n",
            "\n",
            "      PAYMENTS  MINIMUM_PAYMENTS  PRC_FULL_PAYMENT  TENURE  \n",
            "0   201.802084        139.509787          0.000000      12  \n",
            "1  4103.032597       1072.340217          0.222222      12  \n",
            "2   622.066742        627.284787          0.000000      12  \n",
            "3     0.000000        627.284787          0.000000      12  \n",
            "4   678.334763        244.791237          0.000000      12  \n",
            "    BALANCE  BALANCE_FREQUENCY  PURCHASES  ONEOFF_PURCHASES  \\\n",
            "0  0.002148           0.818182   0.001945          0.000000   \n",
            "1  0.168169           0.909091   0.000000          0.000000   \n",
            "2  0.131026           1.000000   0.015766          0.018968   \n",
            "3  0.087521           0.636364   0.030567          0.036775   \n",
            "4  0.042940           1.000000   0.000326          0.000393   \n",
            "\n",
            "   INSTALLMENTS_PURCHASES  CASH_ADVANCE  PURCHASES_FREQUENCY  \\\n",
            "0                 0.00424      0.000000             0.166667   \n",
            "1                 0.00000      0.136685             0.000000   \n",
            "2                 0.00000      0.000000             1.000000   \n",
            "3                 0.00000      0.004366             0.083333   \n",
            "4                 0.00000      0.000000             0.083333   \n",
            "\n",
            "   ONEOFF_PURCHASES_FREQUENCY  PURCHASES_INSTALLMENTS_FREQUENCY  \\\n",
            "0                    0.000000                          0.083333   \n",
            "1                    0.000000                          0.000000   \n",
            "2                    1.000000                          0.000000   \n",
            "3                    0.083333                          0.000000   \n",
            "4                    0.083333                          0.000000   \n",
            "\n",
            "   CASH_ADVANCE_FREQUENCY  CASH_ADVANCE_TRX  PURCHASES_TRX  CREDIT_LIMIT  \\\n",
            "0                0.000000           0.00000       0.005587      0.031720   \n",
            "1                0.166667           0.03252       0.000000      0.232053   \n",
            "2                0.000000           0.00000       0.033520      0.248748   \n",
            "3                0.055555           0.00813       0.002793      0.248748   \n",
            "4                0.000000           0.00000       0.002793      0.038397   \n",
            "\n",
            "   PAYMENTS  MINIMUM_PAYMENTS  PRC_FULL_PAYMENT  TENURE  \n",
            "0  0.003979          0.001826          0.000000     1.0  \n",
            "1  0.080893          0.014034          0.222222     1.0  \n",
            "2  0.012264          0.008210          0.000000     1.0  \n",
            "3  0.000000          0.008210          0.000000     1.0  \n",
            "4  0.013374          0.003204          0.000000     1.0  \n"
          ],
          "name": "stdout"
        },
        {
          "output_type": "stream",
          "text": [
            "/home/teddy/.local/lib/python3.5/site-packages/sklearn/preprocessing/data.py:334: DataConversionWarning: Data with input dtype int64, float64 were all converted to float64 by MinMaxScaler.\n",
            "  return self.partial_fit(X, y)\n"
          ],
          "name": "stderr"
        }
      ]
    },
    {
      "cell_type": "markdown",
      "metadata": {
        "id": "ZmcT6kxsfhTO",
        "colab_type": "text"
      },
      "source": [
        "### 4. Building the clustering model "
      ]
    },
    {
      "cell_type": "code",
      "metadata": {
        "id": "mzXIB02VfhTS",
        "colab_type": "code",
        "colab": {},
        "outputId": "66d35b7e-5be1-4449-8dce-915b7fcef3ba"
      },
      "source": [
        "dbscan_model = DBSCAN(eps = 0.1, min_samples = 5).fit(data)\n",
        "labels = dbscan_model.labels_ \n",
        "print(np.unique(labels, return_counts=True))"
      ],
      "execution_count": 0,
      "outputs": [
        {
          "output_type": "stream",
          "text": [
            "(array([-1,  0,  1,  2,  3,  4,  5,  6,  7,  8,  9, 10, 11, 12, 13, 14, 15,\n",
            "       16, 17, 18, 19, 20, 21, 22, 23, 24, 25, 26, 27, 28, 29, 30, 31, 32,\n",
            "       33, 34, 35, 36, 37, 38, 39, 40, 41, 42, 43, 44, 45, 46, 47, 48, 49,\n",
            "       50, 51, 52, 53, 54, 55, 56, 57, 58, 59, 60, 61]), array([5032,   67, 1820, 1282,   15,    9,   59,   56,   14,   13,    7,\n",
            "         61,   40,   12,    8,   25,    8,    7,   36,   20,    6,    5,\n",
            "          5,   10,   14,    5,   17,    6,   37,    5,   13,   15,    9,\n",
            "          5,    8,    7,    7,    5,    8,   15,    5,    5,    5,    6,\n",
            "         23,   10,    5,    6,    5,    5,    9,    5,    6,    6,   11,\n",
            "          6,    8,    9,    4,    5,    5,    2,    6]))\n"
          ],
          "name": "stdout"
        }
      ]
    },
    {
      "cell_type": "code",
      "metadata": {
        "id": "4HOLj8EJfhTy",
        "colab_type": "code",
        "colab": {},
        "outputId": "a7af9ab2-e982-4d0d-9411-b2768d7a97c5"
      },
      "source": [
        "dbscan_model = DBSCAN(eps = 0.5, min_samples = 3).fit(data)\n",
        "labels = dbscan_model.labels_ \n",
        "print(np.unique(labels, return_counts=True))"
      ],
      "execution_count": 0,
      "outputs": [
        {
          "output_type": "stream",
          "text": [
            "(array([-1,  0]), array([  45, 8905]))\n"
          ],
          "name": "stdout"
        }
      ]
    },
    {
      "cell_type": "markdown",
      "metadata": {
        "id": "H0Ja3UbCfhUK",
        "colab_type": "text"
      },
      "source": [
        "### 5. Visualization by projecting to two dimensions and appending cluster labels for colours "
      ]
    },
    {
      "cell_type": "code",
      "metadata": {
        "id": "R2zAd7WAfhUO",
        "colab_type": "code",
        "colab": {},
        "outputId": "e76191e6-4e3c-40f6-d670-e49e8b7dbaf0"
      },
      "source": [
        "pca = PCA(n_components = 2) \n",
        "data_principal = pca.fit_transform(data_normalized) \n",
        "data_principal = pd.DataFrame(data_principal) \n",
        "data_principal.columns = ['P1', 'P2'] \n",
        "print(data_principal.head()) "
      ],
      "execution_count": 0,
      "outputs": [
        {
          "output_type": "stream",
          "text": [
            "         P1        P2\n",
            "0 -0.489949 -0.679976\n",
            "1 -0.519099  0.544828\n",
            "2  0.330633  0.268880\n",
            "3 -0.481657 -0.097612\n",
            "4 -0.563512 -0.482505\n"
          ],
          "name": "stdout"
        }
      ]
    },
    {
      "cell_type": "code",
      "metadata": {
        "id": "kEyTbubvfhUl",
        "colab_type": "code",
        "colab": {},
        "outputId": "4a1e3a95-f796-49f9-bf48-bfaf7989544d"
      },
      "source": [
        "data_principal = data_principal.assign(clusters=labels)\n",
        "data_principal.head()"
      ],
      "execution_count": 0,
      "outputs": [
        {
          "output_type": "execute_result",
          "data": {
            "text/html": [
              "<div>\n",
              "<style scoped>\n",
              "    .dataframe tbody tr th:only-of-type {\n",
              "        vertical-align: middle;\n",
              "    }\n",
              "\n",
              "    .dataframe tbody tr th {\n",
              "        vertical-align: top;\n",
              "    }\n",
              "\n",
              "    .dataframe thead th {\n",
              "        text-align: right;\n",
              "    }\n",
              "</style>\n",
              "<table border=\"1\" class=\"dataframe\">\n",
              "  <thead>\n",
              "    <tr style=\"text-align: right;\">\n",
              "      <th></th>\n",
              "      <th>P1</th>\n",
              "      <th>P2</th>\n",
              "      <th>clusters</th>\n",
              "    </tr>\n",
              "  </thead>\n",
              "  <tbody>\n",
              "    <tr>\n",
              "      <th>0</th>\n",
              "      <td>-0.489949</td>\n",
              "      <td>-0.679976</td>\n",
              "      <td>0</td>\n",
              "    </tr>\n",
              "    <tr>\n",
              "      <th>1</th>\n",
              "      <td>-0.519099</td>\n",
              "      <td>0.544828</td>\n",
              "      <td>0</td>\n",
              "    </tr>\n",
              "    <tr>\n",
              "      <th>2</th>\n",
              "      <td>0.330633</td>\n",
              "      <td>0.268880</td>\n",
              "      <td>0</td>\n",
              "    </tr>\n",
              "    <tr>\n",
              "      <th>3</th>\n",
              "      <td>-0.481657</td>\n",
              "      <td>-0.097612</td>\n",
              "      <td>0</td>\n",
              "    </tr>\n",
              "    <tr>\n",
              "      <th>4</th>\n",
              "      <td>-0.563512</td>\n",
              "      <td>-0.482505</td>\n",
              "      <td>0</td>\n",
              "    </tr>\n",
              "  </tbody>\n",
              "</table>\n",
              "</div>"
            ],
            "text/plain": [
              "         P1        P2  clusters\n",
              "0 -0.489949 -0.679976         0\n",
              "1 -0.519099  0.544828         0\n",
              "2  0.330633  0.268880         0\n",
              "3 -0.481657 -0.097612         0\n",
              "4 -0.563512 -0.482505         0"
            ]
          },
          "metadata": {
            "tags": []
          },
          "execution_count": 15
        }
      ]
    },
    {
      "cell_type": "code",
      "metadata": {
        "id": "FH-QKdtIfhU5",
        "colab_type": "code",
        "colab": {},
        "outputId": "30f70c12-0919-4435-cf15-8ed7053e0466"
      },
      "source": [
        "fg = sns.FacetGrid(data=data_principal, hue='clusters', aspect=1.61)\n",
        "fg.map(plt.scatter, 'P1', 'P2').add_legend()"
      ],
      "execution_count": 0,
      "outputs": [
        {
          "output_type": "execute_result",
          "data": {
            "text/plain": [
              "<seaborn.axisgrid.FacetGrid at 0x7f08d45df978>"
            ]
          },
          "metadata": {
            "tags": []
          },
          "execution_count": 16
        },
        {
          "output_type": "display_data",
          "data": {
            "image/png": "[encoded data removed]",
            "text/plain": [
              "<Figure size 395.135x216 with 1 Axes>"
            ]
          },
          "metadata": {
            "tags": [],
            "needs_background": "light"
          }
        }
      ]
    },
    {
      "cell_type": "code",
      "metadata": {
        "id": "iW6MTwsBfhVK",
        "colab_type": "code",
        "colab": {}
      },
      "source": [
        ""
      ],
      "execution_count": 0,
      "outputs": []
    }
  ]
}