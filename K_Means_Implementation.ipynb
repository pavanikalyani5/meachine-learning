{
  "nbformat": 4,
  "nbformat_minor": 0,
  "metadata": {
    "kernelspec": {
      "display_name": "Python 3",
      "language": "python",
      "name": "python3"
    },
    "language_info": {
      "codemirror_mode": {
        "name": "ipython",
        "version": 3
      },
      "file_extension": ".py",
      "mimetype": "text/x-python",
      "name": "python",
      "nbconvert_exporter": "python",
      "pygments_lexer": "ipython3",
      "version": "3.5.2"
    },
    "colab": {
      "name": "K-Means Implementation.ipynb",
      "provenance": []
    }
  },
  "cells": [
    {
      "cell_type": "code",
      "metadata": {
        "id": "wN6HGIuJGCwQ",
        "colab_type": "code",
        "colab": {}
      },
      "source": [
        "import time\n",
        "import matplotlib.pyplot as plt\n",
        "%matplotlib inline\n",
        "import numpy as np\n",
        "from sklearn.cluster import KMeans\n",
        "from sklearn.preprocessing import MinMaxScaler\n",
        "import pandas as pd"
      ],
      "execution_count": 0,
      "outputs": []
    },
    {
      "cell_type": "markdown",
      "metadata": {
        "id": "_jGf6u9TGCy6",
        "colab_type": "text"
      },
      "source": [
        "### Import Dataset"
      ]
    },
    {
      "cell_type": "code",
      "metadata": {
        "id": "Z6D86jz9GCzA",
        "colab_type": "code",
        "colab": {},
        "outputId": "6741b42e-08ef-49bd-87bc-8df5dc38a5e0"
      },
      "source": [
        "data=pd.read_csv('CC GENERAL.csv')\n",
        "data.head()\n",
        "data =data.drop('CUST_ID', axis=1)\n",
        "data.fillna(method ='ffill', inplace = True)\n",
        "scaler = MinMaxScaler()\n",
        "data[data.columns] = scaler.fit_transform(data[data.columns])\n",
        "print(data.head())"
      ],
      "execution_count": 0,
      "outputs": [
        {
          "output_type": "stream",
          "text": [
            "    BALANCE  BALANCE_FREQUENCY  PURCHASES  ONEOFF_PURCHASES  \\\n",
            "0  0.002148           0.818182   0.001945          0.000000   \n",
            "1  0.168169           0.909091   0.000000          0.000000   \n",
            "2  0.131026           1.000000   0.015766          0.018968   \n",
            "3  0.087521           0.636364   0.030567          0.036775   \n",
            "4  0.042940           1.000000   0.000326          0.000393   \n",
            "\n",
            "   INSTALLMENTS_PURCHASES  CASH_ADVANCE  PURCHASES_FREQUENCY  \\\n",
            "0                 0.00424      0.000000             0.166667   \n",
            "1                 0.00000      0.136685             0.000000   \n",
            "2                 0.00000      0.000000             1.000000   \n",
            "3                 0.00000      0.004366             0.083333   \n",
            "4                 0.00000      0.000000             0.083333   \n",
            "\n",
            "   ONEOFF_PURCHASES_FREQUENCY  PURCHASES_INSTALLMENTS_FREQUENCY  \\\n",
            "0                    0.000000                          0.083333   \n",
            "1                    0.000000                          0.000000   \n",
            "2                    1.000000                          0.000000   \n",
            "3                    0.083333                          0.000000   \n",
            "4                    0.083333                          0.000000   \n",
            "\n",
            "   CASH_ADVANCE_FREQUENCY  CASH_ADVANCE_TRX  PURCHASES_TRX  CREDIT_LIMIT  \\\n",
            "0                0.000000           0.00000       0.005587      0.031720   \n",
            "1                0.166667           0.03252       0.000000      0.232053   \n",
            "2                0.000000           0.00000       0.033520      0.248748   \n",
            "3                0.055555           0.00813       0.002793      0.248748   \n",
            "4                0.000000           0.00000       0.002793      0.038397   \n",
            "\n",
            "   PAYMENTS  MINIMUM_PAYMENTS  PRC_FULL_PAYMENT  TENURE  \n",
            "0  0.003979          0.001826          0.000000     1.0  \n",
            "1  0.080893          0.014034          0.222222     1.0  \n",
            "2  0.012264          0.008210          0.000000     1.0  \n",
            "3  0.000000          0.008210          0.000000     1.0  \n",
            "4  0.013374          0.003204          0.000000     1.0  \n"
          ],
          "name": "stdout"
        },
        {
          "output_type": "stream",
          "text": [
            "/home/teddy/.local/lib/python3.5/site-packages/sklearn/preprocessing/data.py:334: DataConversionWarning: Data with input dtype int64, float64 were all converted to float64 by MinMaxScaler.\n",
            "  return self.partial_fit(X, y)\n"
          ],
          "name": "stderr"
        }
      ]
    },
    {
      "cell_type": "markdown",
      "metadata": {
        "id": "7zQAPp3QGCzX",
        "colab_type": "text"
      },
      "source": [
        "#### Identify number of clusters"
      ]
    },
    {
      "cell_type": "code",
      "metadata": {
        "id": "pH-UCdhAGCzb",
        "colab_type": "code",
        "colab": {},
        "outputId": "7d99cee7-4206-42f1-c9cb-4b291b6dfbe5"
      },
      "source": [
        "wcss = []\n",
        "for i in range(1, 11):\n",
        "    kmeans = KMeans(n_clusters=i, init='k-means++', max_iter=300, n_init=10, random_state=0)\n",
        "    kmeans.fit(data)\n",
        "    wcss.append(kmeans.inertia_)\n",
        "plt.plot(range(1, 11), wcss)\n",
        "plt.title('Elbow Method')\n",
        "plt.xlabel('Number of clusters')\n",
        "plt.ylabel('WCSS')\n",
        "plt.show()"
      ],
      "execution_count": 0,
      "outputs": [
        {
          "output_type": "display_data",
          "data": {
            "image/png": "[encoded data removed]",
            "text/plain": [
              "<Figure size 432x288 with 1 Axes>"
            ]
          },
          "metadata": {
            "tags": [],
            "needs_background": "light"
          }
        }
      ]
    },
    {
      "cell_type": "markdown",
      "metadata": {
        "id": "wMyOSKnLGC0H",
        "colab_type": "text"
      },
      "source": [
        "#### In the first line, we create a KMeans object and pass it 2 as value for n_clusters parameter. Next, you simply have to call the fit method on kmeans and pass the data that you want to cluster, which in this case is the X "
      ]
    },
    {
      "cell_type": "code",
      "metadata": {
        "id": "QubEYeqmGC0M",
        "colab_type": "code",
        "colab": {},
        "outputId": "54142a68-d4a7-428a-be68-3d1ddaabd6d4"
      },
      "source": [
        "kmeans = KMeans(n_clusters=6)\n",
        "t0 = time.time()\n",
        "kmeans.fit(data)\n",
        "t_batch = time.time() - t0\n",
        "print(t_batch)"
      ],
      "execution_count": 0,
      "outputs": [
        {
          "output_type": "stream",
          "text": [
            "0.7823021411895752\n"
          ],
          "name": "stdout"
        }
      ]
    },
    {
      "cell_type": "markdown",
      "metadata": {
        "id": "XVt6ZzFVGC4H",
        "colab_type": "text"
      },
      "source": [
        "##### Printing the different centres K-mean and mini-batch kmeans"
      ]
    },
    {
      "cell_type": "code",
      "metadata": {
        "id": "1nJiC677GC4e",
        "colab_type": "code",
        "colab": {},
        "outputId": "c736155b-adec-4521-c2f5-6fbef90481de"
      },
      "source": [
        "print(kmeans.cluster_centers_)\n"
      ],
      "execution_count": 0,
      "outputs": [
        {
          "output_type": "stream",
          "text": [
            "[[0.07123463 0.76418674 0.00615054 0.00631052 0.00199766 0.03866126\n",
            "  0.18893676 0.11308954 0.06931461 0.18252019 0.04244601 0.00755161\n",
            "  0.1036663  0.01636148 0.00689805 0.05961226 0.22563054]\n",
            " [0.08435635 0.93502731 0.02464451 0.00942438 0.03665719 0.01489151\n",
            "  0.88495769 0.13196424 0.8352821  0.06435324 0.02003347 0.06618054\n",
            "  0.13689042 0.03172924 0.01606492 0.056031   0.94531004]\n",
            " [0.00776745 0.37421826 0.00726041 0.00605679 0.00486413 0.01028596\n",
            "  0.20399641 0.07419181 0.12392706 0.02807997 0.00804642 0.00964981\n",
            "  0.13250918 0.02838965 0.00362039 0.22765128 0.96492049]\n",
            " [0.1165241  0.9749368  0.00561543 0.00548472 0.00231095 0.0324745\n",
            "  0.13217204 0.0798648  0.05270884 0.14388024 0.04299921 0.00726804\n",
            "  0.14162064 0.03033578 0.01401694 0.02350316 0.97997554]\n",
            " [0.10562492 0.97685163 0.05976089 0.05618911 0.02845823 0.0147021\n",
            "  0.88507032 0.81327008 0.41266054 0.06376285 0.01898633 0.10905979\n",
            "  0.22005036 0.05917883 0.01029735 0.19413974 0.97134752]\n",
            " [0.00992398 0.91864685 0.03808862 0.02004604 0.04673851 0.00111006\n",
            "  0.88350531 0.21866433 0.80788299 0.0063246  0.00199324 0.07445416\n",
            "  0.14981298 0.03804901 0.00257267 0.82073649 0.89271337]]\n"
          ],
          "name": "stdout"
        }
      ]
    },
    {
      "cell_type": "code",
      "metadata": {
        "id": "pNYXRUWBGC5p",
        "colab_type": "code",
        "colab": {}
      },
      "source": [
        ""
      ],
      "execution_count": 0,
      "outputs": []
    }
  ]
}